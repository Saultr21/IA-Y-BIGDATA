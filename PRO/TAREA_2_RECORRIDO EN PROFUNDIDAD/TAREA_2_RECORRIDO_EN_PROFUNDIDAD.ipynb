{
  "nbformat": 4,
  "nbformat_minor": 0,
  "metadata": {
    "colab": {
      "provenance": [],
      "toc_visible": true,
      "collapsed_sections": [
        "oRkNwiHU-f-s"
      ]
    },
    "kernelspec": {
      "name": "python3",
      "display_name": "Python 3"
    },
    "language_info": {
      "name": "python"
    }
  },
  "cells": [
    {
      "cell_type": "markdown",
      "source": [
        "![image.png](data:image/png;base64,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)"
      ],
      "metadata": {
        "id": "2u5GhvBdF3FT"
      }
    },
    {
      "cell_type": "markdown",
      "source": [
        "**LINK GITHUB:** https://github.com/Saultr21/IA-Y-BIGDATA/blob/main/PRO/TAREA_2_RECORRIDO%20EN%20PROFUNDIDAD/TAREA_2_RECORRIDO%20EN%20PROFUNDIDAD.ipynb"
      ],
      "metadata": {
        "id": "-Ntcxo-nGmFz"
      }
    },
    {
      "cell_type": "markdown",
      "source": [
        "# 1.2 Funcionamiento correcto del código."
      ],
      "metadata": {
        "id": "YEhmJgh9-X39"
      }
    },
    {
      "cell_type": "code",
      "source": [
        "import numpy as np\n",
        "import matplotlib.pyplot as plt\n",
        "import random\n",
        "import sys\n",
        "# Aumentar el límite de recursión\n",
        "sys.setrecursionlimit(10**6)\n",
        "# Función para crear el laberinto utilizando el algoritmo de búsqueda en profundidad\n",
        "def create_maze(size):\n",
        "    width, height = size\n",
        "    maze = np.ones((height, width))  # Crear una matriz llena de 1's, que representan paredes\n",
        "    # Punto de inicio del laberinto\n",
        "    start_x, start_y = 1, 1\n",
        "    maze[start_y, start_x] = 0  # 0's representan caminos\n",
        "    stack = [(start_x, start_y)]  # Pila para realizar el seguimiento de la generación del laberinto\n",
        "    directions = [(2, 0), (-2, 0), (0, 2), (0, -2)]  # Direcciones para moverse (en pasos de 2 para saltar paredes)\n",
        "    # Generar el laberinto\n",
        "    while stack:\n",
        "        x, y = stack[-1]\n",
        "        neighbors = []\n",
        "        # Buscar vecinos que sean válidos (dentro de límites y que aún sean paredes)\n",
        "        for dx, dy in directions:\n",
        "            nx, ny = x + dx, y + dy\n",
        "            if 0 < nx < width and 0 < ny < height and maze[ny, nx] == 1:\n",
        "                neighbors.append((nx, ny))\n",
        "        if neighbors:\n",
        "            # Seleccionar un vecino al azar y abrir el camino hacia él\n",
        "            nx, ny = random.choice(neighbors)\n",
        "            maze[(y + ny) // 2, (x + nx) // 2] = 0  # Abrir el camino entre la celda actual y el vecino\n",
        "            maze[ny, nx] = 0  # Establecer el vecino como camino\n",
        "            stack.append((nx, ny))  # Agregar el vecino a la pila para continuar desde allí\n",
        "        else:\n",
        "            stack.pop()  # Si no hay vecinos, retroceder en la pila\n",
        "    return maze\n",
        "\n",
        "\n",
        "\n",
        "# Función recursiva para buscar un camino usando el algoritmo de búsqueda en profundidad\n",
        "def depth_first_search_recursive(maze, current_pos, end_pos, visited=None, path=None):\n",
        "    if visited is None:\n",
        "        visited = set()  # Conjunto para registrar las celdas visitadas\n",
        "    if path is None:\n",
        "        path = []  # Lista para registrar el camino\n",
        "    # Si ya se ha alcanzado el destino, retornar el camino\n",
        "    if current_pos == end_pos:\n",
        "        path.append(current_pos)\n",
        "        return path\n",
        "    # Marcar la celda actual como visitada\n",
        "    visited.add(current_pos)\n",
        "    path.append(current_pos)\n",
        "    x, y = current_pos\n",
        "    directions = [(0, 1), (1, 0), (0, -1), (-1, 0)]  # Direcciones para moverse en el laberinto\n",
        "    # Explorar los vecinos de la celda actual\n",
        "    for dx, dy in directions:\n",
        "        neighbor = (x + dx, y + dy)\n",
        "        if (0 <= neighbor[0] < maze.shape[1] and\n",
        "                0 <= neighbor[1] < maze.shape[0] and\n",
        "                maze[neighbor[1], neighbor[0]] == 0 and\n",
        "                neighbor not in visited):\n",
        "            result = depth_first_search_recursive(maze, neighbor, end_pos, visited, path)\n",
        "            if result:  # Si se encontró un camino, retornar\n",
        "                return result\n",
        "    # Si no se encontró un camino, retroceder\n",
        "    path.pop()  # Eliminar la celda actual del camino\n",
        "    return None  # Indicar que no se encontró un camino válido\n",
        "# Función para visualizar el laberinto con el camino encontrado\n",
        "def visualize_maze_with_path(maze, start_pos, end_pos, path):\n",
        "    plt.figure(figsize=(8, 8))\n",
        "    plt.imshow(maze, cmap='binary')  # Muestra el laberinto en escala de grises\n",
        "    plt.axis('off')\n",
        "    plt.xlim(-0.5, maze.shape[1] - 0.5)\n",
        "    plt.ylim(maze.shape[0] - 0.5, -0.5)\n",
        "    # Marcar los puntos de inicio y final\n",
        "    plt.scatter(*start_pos[::-1], color='orange', s=50, label='Inicio')  # Punto de inicio\n",
        "    plt.scatter(*end_pos[::-1], color='green', s=50, label='Fin')        # Punto de destino\n",
        "    # Dibujar el camino\n",
        "    if path:\n",
        "        path_array = np.array(path)\n",
        "        plt.plot(path_array[:, 0], path_array[:, 1], color='red', linewidth=3, label='Camino')\n",
        "    plt.legend()\n",
        "    plt.show()\n",
        "# Definir el tamaño del laberinto (debe ser impar)\n",
        "size = (101, 101)  # Cambiado a 101x101\n",
        "maze = create_maze(size)\n",
        "# Definir las posiciones de inicio y fin (en el borde del laberinto)\n",
        "start_pos = (1, 1)   # Inicio en (1, 1)\n",
        "end_pos = (99, 99)   # Fin en (99, 99)\n",
        "\n",
        "\n",
        "\n",
        "# Ejecutar la búsqueda en profundidad recursiva para encontrar el camino\n",
        "path = depth_first_search_recursive(maze, start_pos, end_pos)\n",
        "# Visualizar el laberinto con el camino encontrado\n",
        "visualize_maze_with_path(maze, start_pos, end_pos, path)"
      ],
      "metadata": {
        "colab": {
          "base_uri": "https://localhost:8080/",
          "height": 653
        },
        "id": "ENGqKPTPt6iz",
        "outputId": "fabc60c9-681e-4441-b570-f8ad474ce21d"
      },
      "execution_count": null,
      "outputs": [
        {
          "output_type": "display_data",
          "data": {
            "text/plain": [
              "<Figure size 800x800 with 1 Axes>"
            ],
            "image/png": "[encoded data removed]"
          },
          "metadata": {}
        }
      ]
    },
    {
      "cell_type": "markdown",
      "source": [
        "#  1.3 Explicación del funcionamiento y estructuras creadas"
      ],
      "metadata": {
        "id": "oRkNwiHU-f-s"
      }
    },
    {
      "cell_type": "markdown",
      "source": [
        "**Importación de librerias**"
      ],
      "metadata": {
        "id": "ma3KN_v13gA3"
      }
    },
    {
      "cell_type": "code",
      "source": [
        "import numpy as np\n",
        "import matplotlib.pyplot as plt\n",
        "import random\n",
        "import sys"
      ],
      "metadata": {
        "id": "OX_TjQRK3jdO"
      },
      "execution_count": null,
      "outputs": []
    },
    {
      "cell_type": "markdown",
      "source": [
        "- numpy: Se utiliza para manejar arreglos y matrices de manera eficiente.\n",
        "- matplotlib.pyplot: Se utiliza para visualizar el laberinto y el camino encontrado.\n",
        "- random: Permite seleccionar vecinos al azar al generar el laberinto.\n",
        "- sys: Se utiliza para ajustar el límite de recursión, lo que permite llamadas recursivas más profundas en el algoritmo de búsqueda."
      ],
      "metadata": {
        "id": "2eYaKxD03mbG"
      }
    },
    {
      "cell_type": "markdown",
      "source": [
        "**Aumento del Límite de Recursión**"
      ],
      "metadata": {
        "id": "2H474hHa3tNd"
      }
    },
    {
      "cell_type": "code",
      "source": [
        "sys.setrecursionlimit(10**6)"
      ],
      "metadata": {
        "id": "lX3KAqAk3vzP"
      },
      "execution_count": null,
      "outputs": []
    },
    {
      "cell_type": "markdown",
      "source": [
        "Aumenta el límite de recursión a 1,000,000 para permitir una mayor profundidad de recursión en la búsqueda. Esto es útil para laberintos más grandes."
      ],
      "metadata": {
        "id": "KCEfI3M53x3O"
      }
    },
    {
      "cell_type": "markdown",
      "source": [
        "**Creación del Laberinto**"
      ],
      "metadata": {
        "id": "ndvQvjUU30x2"
      }
    },
    {
      "cell_type": "code",
      "source": [
        "def create_maze(size):\n",
        "    width, height = size\n",
        "    maze = np.ones((height, width))  # Crear una matriz llena de 1's, que representan paredes"
      ],
      "metadata": {
        "id": "Eu75YP4834B2"
      },
      "execution_count": null,
      "outputs": []
    },
    {
      "cell_type": "markdown",
      "source": [
        "- create_maze(size): Función que crea un laberinto basado en el algoritmo de búsqueda en profundidad.\n",
        "- size es una tupla que define las dimensiones del laberinto. Se inicializa una matriz (maze) llena de 1's, donde 1 representa una pared."
      ],
      "metadata": {
        "id": "9Nk2TwoW351O"
      }
    },
    {
      "cell_type": "markdown",
      "source": [
        "**Inicialización del Laberinto**"
      ],
      "metadata": {
        "id": "WnpGCr5_4QnW"
      }
    },
    {
      "cell_type": "code",
      "source": [
        " start_x, start_y = 1, 1\n",
        " maze[start_y, start_x] = 0  # 0's representan caminos"
      ],
      "metadata": {
        "id": "ZD-OBXBY4SDe"
      },
      "execution_count": null,
      "outputs": []
    },
    {
      "cell_type": "markdown",
      "source": [
        "Establece el punto de inicio en (1, 1) y lo marca como un camino (0)."
      ],
      "metadata": {
        "id": "qz9qcZdL4T72"
      }
    },
    {
      "cell_type": "markdown",
      "source": [
        "**Algoritmo de Generación del Laberinto**"
      ],
      "metadata": {
        "id": "riDds9iq4ewu"
      }
    },
    {
      "cell_type": "code",
      "source": [
        "stack = [(start_x, start_y)]  # Pila para realizar el seguimiento de la generación del laberinto\n",
        "directions = [(2, 0), (-2, 0), (0, 2), (0, -2)]  # Direcciones para moverse (en pasos de 2 para saltar paredes)"
      ],
      "metadata": {
        "id": "dvsfI5CJ4jdW"
      },
      "execution_count": null,
      "outputs": []
    },
    {
      "cell_type": "markdown",
      "source": [
        "Se utiliza una pila (stack) para realizar un seguimiento de las celdas que se están explorando.\n",
        "- directions define los pasos de 2 unidades en las direcciones vertical y horizontal para saltar sobre las paredes."
      ],
      "metadata": {
        "id": "Usk1vsfV4tMu"
      }
    },
    {
      "cell_type": "markdown",
      "source": [
        "**Generación del Laberinto**"
      ],
      "metadata": {
        "id": "mGgNvBqL5B8v"
      }
    },
    {
      "cell_type": "code",
      "source": [
        "    while stack:\n",
        "        x, y = stack[-1]\n",
        "        neighbors = []"
      ],
      "metadata": {
        "id": "hg8pCvsP5D-v"
      },
      "execution_count": null,
      "outputs": []
    },
    {
      "cell_type": "markdown",
      "source": [
        "- Mientras haya celdas en la pila, el algoritmo toma la posición de la celda superior de la pila.\n",
        "- Se inicializa una lista de neighbors para almacenar celdas vecinas válidas."
      ],
      "metadata": {
        "id": "rOw3DEmi5GN2"
      }
    },
    {
      "cell_type": "markdown",
      "source": [
        "**Encontrar Vecinos Válidos**"
      ],
      "metadata": {
        "id": "bEdSs4zI5MH2"
      }
    },
    {
      "cell_type": "code",
      "source": [
        "        for dx, dy in directions:\n",
        "            nx, ny = x + dx, y + dy\n",
        "            if 0 < nx < width and 0 < ny < height and maze[ny, nx] == 1:\n",
        "                neighbors.append((nx, ny))"
      ],
      "metadata": {
        "id": "ojKvZWki5Neu"
      },
      "execution_count": null,
      "outputs": []
    },
    {
      "cell_type": "markdown",
      "source": [
        "- Se exploran las celdas vecinas en las direcciones especificadas.\n",
        "- Se verifica que cada vecino esté dentro de los límites y sea una pared (1). Si es así, se añade a la lista de vecinos."
      ],
      "metadata": {
        "id": "yUsTDpI65PGl"
      }
    },
    {
      "cell_type": "markdown",
      "source": [
        "**Seleccionar un Vecino y Abrir Caminos**"
      ],
      "metadata": {
        "id": "Wkm9rGYM5f2e"
      }
    },
    {
      "cell_type": "code",
      "source": [
        "        if neighbors:\n",
        "            # Seleccionar un vecino al azar y abrir el camino hacia él\n",
        "            nx, ny = random.choice(neighbors)\n",
        "            maze[(y + ny) // 2, (x + nx) // 2] = 0  # Abrir el camino entre la celda actual y el vecino\n",
        "            maze[ny, nx] = 0  # Establecer el vecino como camino\n",
        "            stack.append((nx, ny))  # Agregar el vecino a la pila para continuar desde allí"
      ],
      "metadata": {
        "id": "Pg7kSA4z5hw-"
      },
      "execution_count": null,
      "outputs": []
    },
    {
      "cell_type": "markdown",
      "source": [
        "- Si hay vecinos válidos, se selecciona uno al azar y se abre el camino hacia él, marcando la celda intermedia entre la celda actual y el vecino como un camino (0).\n",
        "- Luego, se añade el vecino a la pila para continuar la exploración desde esa celda."
      ],
      "metadata": {
        "id": "BYrESEs659sN"
      }
    },
    {
      "cell_type": "markdown",
      "source": [
        "**Retroceder si No Hay Vecinos**"
      ],
      "metadata": {
        "id": "GVhh4Gib7V69"
      }
    },
    {
      "cell_type": "code",
      "source": [
        "        else:\n",
        "            stack.pop()  # Si no hay vecinos, retroceder en la pila"
      ],
      "metadata": {
        "id": "F7PvGfkK7ZMF"
      },
      "execution_count": null,
      "outputs": []
    },
    {
      "cell_type": "markdown",
      "source": [
        "Si no hay vecinos disponibles, se hace \"pop\" en la pila, retrocediendo al último punto explorado."
      ],
      "metadata": {
        "id": "guEDsMSO7avc"
      }
    },
    {
      "cell_type": "markdown",
      "source": [
        "**Retorno del Laberinto Generado**"
      ],
      "metadata": {
        "id": "cyycfOSt7dJm"
      }
    },
    {
      "cell_type": "code",
      "source": [
        "    return maze"
      ],
      "metadata": {
        "id": "t4D75r4Y7igk"
      },
      "execution_count": null,
      "outputs": []
    },
    {
      "cell_type": "markdown",
      "source": [
        "Al final, se retorna el laberinto generado."
      ],
      "metadata": {
        "id": "ZuIRXRWc7kcU"
      }
    },
    {
      "cell_type": "markdown",
      "source": [
        "**Búsqueda del Camino (DFS Recursivo)**"
      ],
      "metadata": {
        "id": "lt4Pu9NG7nQl"
      }
    },
    {
      "cell_type": "code",
      "source": [
        "def depth_first_search_recursive(maze, current_pos, end_pos, visited=None, path=None):\n",
        "    if visited is None:\n",
        "        visited = set()  # Conjunto para registrar las celdas visitadas\n",
        "    if path is None:\n",
        "        path = []  # Lista para registrar el camino"
      ],
      "metadata": {
        "id": "IYvrbFeW7oht"
      },
      "execution_count": null,
      "outputs": []
    },
    {
      "cell_type": "markdown",
      "source": [
        "- depth_first_search_recursive(maze, current_pos, end_pos): Función para encontrar un camino desde current_pos hasta end_pos usando búsqueda en profundidad.\n",
        "- Se inicializan los conjuntos visited y path para seguir el rastro de las celdas visitadas y el camino encontrado, respectivamente."
      ],
      "metadata": {
        "id": "7l0oQ0rj76kV"
      }
    },
    {
      "cell_type": "markdown",
      "source": [
        "**Condición de Éxito**"
      ],
      "metadata": {
        "id": "MFbFb5GOrg79"
      }
    },
    {
      "cell_type": "code",
      "source": [
        "    if current_pos == end_pos:\n",
        "        path.append(current_pos)\n",
        "        return path"
      ],
      "metadata": {
        "id": "5AbWKJe0ri88"
      },
      "execution_count": null,
      "outputs": []
    },
    {
      "cell_type": "markdown",
      "source": [
        "Si se alcanza la posición final, se añade a la lista de path y se devuelve."
      ],
      "metadata": {
        "id": "olhJWHlorjwk"
      }
    },
    {
      "cell_type": "markdown",
      "source": [
        "**Marcar la Celda Actual**"
      ],
      "metadata": {
        "id": "CiR6TTSCrmDs"
      }
    },
    {
      "cell_type": "code",
      "source": [
        "    visited.add(current_pos)\n",
        "    path.append(current_pos)\n",
        "    x, y = current_pos\n",
        "    directions = [(0, 1), (1, 0), (0, -1), (-1, 0)]  # Direcciones para moverse en el laberinto"
      ],
      "metadata": {
        "id": "9tD8eFbHroNl"
      },
      "execution_count": null,
      "outputs": []
    },
    {
      "cell_type": "markdown",
      "source": [
        "- Marca la celda actual como visitada y la añade al camino.\n",
        "- Define las direcciones para moverse (arriba, derecha, abajo, izquierda)."
      ],
      "metadata": {
        "id": "4Xif30W7rpvc"
      }
    },
    {
      "cell_type": "markdown",
      "source": [
        "**Explorar Vecinos**"
      ],
      "metadata": {
        "id": "QGlbudrBruyW"
      }
    },
    {
      "cell_type": "code",
      "source": [
        "    for dx, dy in directions:\n",
        "        neighbor = (x + dx, y + dy)\n",
        "        if (0 <= neighbor[0] < maze.shape[1] and\n",
        "                0 <= neighbor[1] < maze.shape[0] and\n",
        "                maze[neighbor[1], neighbor[0]] == 0 and\n",
        "                neighbor not in visited):\n",
        "            result = depth_first_search_recursive(maze, neighbor, end_pos, visited, path)\n",
        "            if result:  # Si se encontró un camino, retornar\n",
        "                return result"
      ],
      "metadata": {
        "id": "1YL5NP65rw2U"
      },
      "execution_count": null,
      "outputs": []
    },
    {
      "cell_type": "markdown",
      "source": [
        "- Se exploran los vecinos de la celda actual. Si un vecino es un camino (0) y no ha sido visitado, se llama recursivamente a la función con esa celda como la nueva posición actual.\n",
        "- Si se encuentra un camino, se devuelve inmediatamente."
      ],
      "metadata": {
        "id": "B2S2b1pJrySk"
      }
    },
    {
      "cell_type": "markdown",
      "source": [
        "**Retroceso si No se Encuentra Camino**"
      ],
      "metadata": {
        "id": "EUveAe7Or4Md"
      }
    },
    {
      "cell_type": "code",
      "source": [
        "    path.pop()  # Eliminar la celda actual del camino\n",
        "    return None  # Indicar que no se encontró un camino válido"
      ],
      "metadata": {
        "id": "Hq6mdSk2r7oN"
      },
      "execution_count": null,
      "outputs": []
    },
    {
      "cell_type": "markdown",
      "source": [
        "Si no se encuentra un camino, se hace \"pop\" en el camino, eliminando la celda actual, y se devuelve None."
      ],
      "metadata": {
        "id": "AH6xqcF8sBD8"
      }
    },
    {
      "cell_type": "markdown",
      "source": [
        "**Visualización del Laberinto**"
      ],
      "metadata": {
        "id": "txPrmNHZsDir"
      }
    },
    {
      "cell_type": "code",
      "source": [
        "def visualize_maze_with_path(maze, start_pos, end_pos, path):\n",
        "    plt.figure(figsize=(10, 10))\n",
        "    plt.imshow(maze, cmap='binary')  # Muestra el laberinto en escala de grises\n",
        "    plt.axis('off')\n",
        "    plt.xlim(-0.5, maze.shape[1] - 0.5)\n",
        "    plt.ylim(maze.shape[0] - 0.5, -0.5)"
      ],
      "metadata": {
        "id": "pqicdEPFsGqr"
      },
      "execution_count": null,
      "outputs": []
    },
    {
      "cell_type": "markdown",
      "source": [
        "- visualize_maze_with_path(maze, start_pos, end_pos, path): Función para visualizar el laberinto y el camino encontrado.\n",
        "- Utiliza Matplotlib para mostrar el laberinto en una figura de 10x10 pulgadas. El laberinto se visualiza en escala de grises."
      ],
      "metadata": {
        "id": "WK630IDhsIPM"
      }
    },
    {
      "cell_type": "markdown",
      "source": [
        "**Marcar Inicio y Fin**"
      ],
      "metadata": {
        "id": "Fin7MFLbsO1M"
      }
    },
    {
      "cell_type": "code",
      "source": [
        "    plt.scatter(*start_pos[::-1], color='orange', s=50, label='Inicio')  # Punto de inicio\n",
        "    plt.scatter(*end_pos[::-1], color='green', s=50, label='Fin')        # Punto de destino"
      ],
      "metadata": {
        "id": "mbBvl0YUsPmL"
      },
      "execution_count": null,
      "outputs": []
    },
    {
      "cell_type": "markdown",
      "source": [
        "Se marcan los puntos de inicio (en naranja) y de fin (en verde) en el laberinto."
      ],
      "metadata": {
        "id": "iA0uZRZYsZms"
      }
    },
    {
      "cell_type": "markdown",
      "source": [
        "**Dibujar el Camino Encontrado**"
      ],
      "metadata": {
        "id": "vL4_InAAsaOj"
      }
    },
    {
      "cell_type": "code",
      "source": [
        "    if path:\n",
        "        path_array = np.array(path)\n",
        "        plt.plot(path_array[:, 0], path_array[:, 1], color='red', linewidth=2, label='Camino')"
      ],
      "metadata": {
        "id": "hLA6D_kxsmfd"
      },
      "execution_count": null,
      "outputs": []
    },
    {
      "cell_type": "markdown",
      "source": [
        "Si hay un camino encontrado, se convierte en un arreglo NumPy y se dibuja en rojo en el laberinto."
      ],
      "metadata": {
        "id": "XgXKZ2z7spHc"
      }
    },
    {
      "cell_type": "markdown",
      "source": [
        "**Mostrar la Leyenda y la Figura**"
      ],
      "metadata": {
        "id": "wjM3zCHisrxU"
      }
    },
    {
      "cell_type": "code",
      "source": [
        "    plt.legend()\n",
        "    plt.show()"
      ],
      "metadata": {
        "id": "vmehYr7Pssvu"
      },
      "execution_count": null,
      "outputs": []
    },
    {
      "cell_type": "markdown",
      "source": [
        "Se añade una leyenda y se muestra la figura."
      ],
      "metadata": {
        "id": "12GqLfbcsuV1"
      }
    },
    {
      "cell_type": "markdown",
      "source": [
        "**Definición del Tamaño del Laberinto y Ejecución**"
      ],
      "metadata": {
        "id": "APIym3wSsxn9"
      }
    },
    {
      "cell_type": "code",
      "source": [
        "size = (101, 101)  # Cambiado a 101x101\n",
        "maze = create_maze(size)"
      ],
      "metadata": {
        "id": "rrdSHQYIs1N0"
      },
      "execution_count": null,
      "outputs": []
    },
    {
      "cell_type": "markdown",
      "source": [
        "# 1.4 Modifica la matriz de movimientos para permitir saltos en diagonal y añadir más muros (de forma aleatoria) en el interior, olvidar un porcentaje de puntos por dónde se ha pasado."
      ],
      "metadata": {
        "id": "5xhgFWzEt5Rj"
      }
    },
    {
      "cell_type": "code",
      "source": [
        "import numpy as np\n",
        "import matplotlib.pyplot as plt\n",
        "import random\n",
        "import sys\n",
        "from collections import deque\n",
        "\n",
        "# Aumentar el límite de recursión\n",
        "sys.setrecursionlimit(10**6)\n",
        "\n",
        "# Función para crear el laberinto utilizando el algoritmo de búsqueda en profundidad\n",
        "def create_maze(size, extra_walls=100):\n",
        "    width, height = size\n",
        "    maze = np.ones((height, width))  # Crear una matriz llena de 1's, que representan paredes\n",
        "    # Punto de inicio del laberinto\n",
        "    start_x, start_y = 1, 1\n",
        "    maze[start_y, start_x] = 0  # 0's representan caminos\n",
        "    stack = [(start_x, start_y)]  # Pila para realizar el seguimiento de la generación del laberinto\n",
        "    directions = [(2, 0), (-2, 0), (0, 2), (0, -2), (2, 2), (-2, -2), (2, -2), (-2, 2)]  # Añadir direcciones diagonales\n",
        "\n",
        "    # Generar el laberinto\n",
        "    while stack:\n",
        "        x, y = stack[-1]\n",
        "        neighbors = []\n",
        "        # Buscar vecinos que sean válidos (dentro de límites y que aún sean paredes)\n",
        "        for dx, dy in directions:\n",
        "            nx, ny = x + dx, y + dy\n",
        "            if 0 < nx < width and 0 < ny < height and maze[ny, nx] == 1:\n",
        "                neighbors.append((nx, ny))\n",
        "        if neighbors:\n",
        "            # Seleccionar un vecino al azar y abrir el camino hacia él\n",
        "            nx, ny = random.choice(neighbors)\n",
        "            maze[(y + ny) // 2, (x + nx) // 2] = 0  # Abrir el camino entre la celda actual y el vecino\n",
        "            maze[ny, nx] = 0  # Establecer el vecino como camino\n",
        "            stack.append((nx, ny))  # Agregar el vecino a la pila para continuar desde allí\n",
        "        else:\n",
        "            stack.pop()  # Si no hay vecinos, retroceder en la pila\n",
        "\n",
        "    # Añadir muros adicionales al azar sin bloquear todos los caminos\n",
        "    for _ in range(extra_walls):\n",
        "        wx, wy = random.randint(1, width - 2), random.randint(1, height - 2)\n",
        "        if (wx % 2 == 1 and wy % 2 == 1):  # Solo añadir muros en celdas que podrían ser caminos\n",
        "            maze[wy, wx] = 1\n",
        "\n",
        "    return maze\n",
        "\n",
        "# Función para encontrar el camino más corto usando el algoritmo de búsqueda en anchura\n",
        "def bfs_shortest_path(maze, start_pos, end_pos):\n",
        "    queue = deque([start_pos])\n",
        "    visited = set()\n",
        "    visited.add(start_pos)\n",
        "    parent_map = {start_pos: None}  # Mapa para rastrear el camino\n",
        "\n",
        "    directions = [(1, 1), (-1, -1), (1, -1), (-1, 1),(0, 1), (1, 0), (0, -1), (-1, 0)]  # Movimientos diagonales incluidos\n",
        "\n",
        "    while queue:\n",
        "        current = queue.popleft()\n",
        "        if current == end_pos:  # Si se llega al destino\n",
        "            break\n",
        "        x, y = current\n",
        "\n",
        "        # Explorar vecinos\n",
        "        for dx, dy in directions:\n",
        "            neighbor = (x + dx, y + dy)\n",
        "            if (0 <= neighbor[0] < maze.shape[1] and\n",
        "                    0 <= neighbor[1] < maze.shape[0] and\n",
        "                    maze[neighbor[1], neighbor[0]] == 0 and\n",
        "                    neighbor not in visited):\n",
        "                visited.add(neighbor)\n",
        "                queue.append(neighbor)\n",
        "                parent_map[neighbor] = current  # Registrar el padre del vecino\n",
        "\n",
        "    # Reconstruir el camino\n",
        "    path = []\n",
        "    if current == end_pos:  # Verificar si se encontró un camino\n",
        "        while current is not None:\n",
        "            path.append(current)\n",
        "            current = parent_map[current]\n",
        "        path.reverse()  # Invertir el camino para que vaya desde el inicio al fin\n",
        "\n",
        "    return path\n",
        "\n",
        "# Función para visualizar el laberinto con el camino encontrado\n",
        "def visualize_maze_with_path(maze, start_pos, end_pos, path):\n",
        "    plt.figure(figsize=(8, 8))\n",
        "    plt.imshow(maze, cmap='binary')  # Muestra el laberinto en escala de grises\n",
        "    plt.axis('off')\n",
        "    plt.xlim(-0.5, maze.shape[1] - 0.5)\n",
        "    plt.ylim(maze.shape[0] - 0.5, -0.5)\n",
        "    # Marcar los puntos de inicio y final\n",
        "    plt.scatter(*start_pos[::-1], color='orange', s=50, label='Inicio')  # Punto de inicio\n",
        "    plt.scatter(*end_pos[::-1], color='green', s=50, label='Fin')        # Punto de destino\n",
        "    # Dibujar el camino\n",
        "    if path:\n",
        "        path_array = np.array(path)\n",
        "        plt.plot(path_array[:, 0], path_array[:, 1], color='red', linewidth=2, label='Camino más corto')\n",
        "    plt.legend()\n",
        "    plt.show()\n",
        "\n",
        "# Definir el tamaño del laberinto (debe ser impar)\n",
        "size = (101, 101)  # Cambiado a 101x101\n",
        "maze = create_maze(size, extra_walls=20)  # Aumentar muros aleatorios\n",
        "\n",
        "# Definir las posiciones de inicio y fin (en el borde del laberinto)\n",
        "start_pos = (1, 1)   # Inicio en (1, 1)\n",
        "end_pos = (99, 99)   # Fin en (99, 99)\n",
        "\n",
        "# Ejecutar la búsqueda del camino más corto\n",
        "shortest_path = bfs_shortest_path(maze, start_pos, end_pos)\n",
        "\n",
        "# Visualizar el laberinto con el camino más corto encontrado\n",
        "visualize_maze_with_path(maze, start_pos, end_pos, shortest_path)\n"
      ],
      "metadata": {
        "colab": {
          "base_uri": "https://localhost:8080/",
          "height": 653
        },
        "id": "-SeDoNYt289Q",
        "outputId": "8a30dd88-96c1-4962-cb53-b3a84f3e207d"
      },
      "execution_count": null,
      "outputs": [
        {
          "output_type": "display_data",
          "data": {
            "text/plain": [
              "<Figure size 800x800 with 1 Axes>"
            ],
            "image/png": "[encoded data removed]"
          },
          "metadata": {}
        }
      ]
    },
    {
      "cell_type": "markdown",
      "source": [
        "**Cambios realizados:**"
      ],
      "metadata": {
        "id": "mRlrrTHN3EHQ"
      }
    },
    {
      "cell_type": "markdown",
      "source": [
        "**Se han añadido direcciones diagonales en la variable directions durante la creación del laberinto.**"
      ],
      "metadata": {
        "id": "yrkEr3023IIo"
      }
    },
    {
      "cell_type": "code",
      "source": [
        "directions = [(2, 0), (-2, 0), (0, 2), (0, -2), (2, 2), (-2, -2), (2, -2), (-2, 2)]  # Direcciones diagonales añadidas"
      ],
      "metadata": {
        "id": "hggrfHpl3Ksh"
      },
      "execution_count": null,
      "outputs": []
    },
    {
      "cell_type": "markdown",
      "source": [
        "**Se ha añadido un parámetro extra_walls en la función create_maze para permitir la adición de muros aleatorios después de generar el laberinto.**"
      ],
      "metadata": {
        "id": "AvVg2tZc3L8g"
      }
    },
    {
      "cell_type": "code",
      "source": [
        "def create_maze(size, extra_walls=100):"
      ],
      "metadata": {
        "id": "ToR6IGXs3N4y"
      },
      "execution_count": null,
      "outputs": []
    },
    {
      "cell_type": "markdown",
      "source": [
        "**Se incluye un bucle que añade muros adicionales aleatorios al laberinto.**"
      ],
      "metadata": {
        "id": "k-Od3dCJ3P2A"
      }
    },
    {
      "cell_type": "code",
      "source": [
        "for _ in range(extra_walls):\n",
        "    wx, wy = random.randint(1, width - 2), random.randint(1, height - 2)\n",
        "    if (wx % 2 == 1 and wy % 2 == 1):  # Solo añadir muros en celdas que podrían ser caminos\n",
        "        maze[wy, wx] = 1"
      ],
      "metadata": {
        "id": "1JXqazdx3R-K"
      },
      "execution_count": null,
      "outputs": []
    },
    {
      "cell_type": "markdown",
      "source": [
        "**La función depth_first_search_recursive ahora también considera movimientos diagonales.**"
      ],
      "metadata": {
        "id": "L-UWdSDb3TWp"
      }
    },
    {
      "cell_type": "code",
      "source": [
        "directions = [(1, 1), (-1, -1), (1, -1), (-1, 1), (0, 1), (1, 0), (0, -1), (-1, 0) ]  # Direcciones diagonales añadidas antes para darle preferencia"
      ],
      "metadata": {
        "id": "RqLl-Nze3U85"
      },
      "execution_count": null,
      "outputs": []
    },
    {
      "cell_type": "markdown",
      "source": [
        "**Se ha añadido la función forget_path_points que elimina un porcentaje de los puntos en el camino encontrado.**"
      ],
      "metadata": {
        "id": "QnxxE-1Q3ds4"
      }
    },
    {
      "cell_type": "code",
      "source": [
        "def forget_path_points(path, forget_percent=20):"
      ],
      "metadata": {
        "id": "rQ9K7Bly3eUx"
      },
      "execution_count": null,
      "outputs": []
    },
    {
      "cell_type": "markdown",
      "source": [
        "# 1.5 Recorrido en abanico iterativo, indica estructuras creadas."
      ],
      "metadata": {
        "id": "mkMwM-o_4gVh"
      }
    },
    {
      "cell_type": "code",
      "source": [
        "import numpy as np\n",
        "import matplotlib.pyplot as plt\n",
        "import random\n",
        "import sys\n",
        "from collections import deque\n",
        "\n",
        "# Aumentar el límite de recursión (no es necesario para el recorrido iterativo, pero se mantiene por si acaso)\n",
        "sys.setrecursionlimit(10**6)\n",
        "\n",
        "# Función para crear el laberinto utilizando el algoritmo de búsqueda en profundidad\n",
        "def create_maze(size):\n",
        "    width, height = size\n",
        "    maze = np.ones((height, width))  # Crear una matriz llena de 1's, que representan paredes\n",
        "    # Punto de inicio del laberinto\n",
        "    start_x, start_y = 1, 1\n",
        "    maze[start_y, start_x] = 0  # 0's representan caminos\n",
        "    stack = [(start_x, start_y)]  # Pila para realizar el seguimiento de la generación del laberinto\n",
        "    directions = [(2, 0), (-2, 0), (0, 2), (0, -2)]  # Direcciones para moverse (en pasos de 2 para saltar paredes)\n",
        "\n",
        "    # Generar el laberinto\n",
        "    while stack:\n",
        "        x, y = stack[-1]\n",
        "        neighbors = []\n",
        "        # Buscar vecinos que sean válidos (dentro de límites y que aún sean paredes)\n",
        "        for dx, dy in directions:\n",
        "            nx, ny = x + dx, y + dy\n",
        "            if 0 < nx < width and 0 < ny < height and maze[ny, nx] == 1:\n",
        "                neighbors.append((nx, ny))\n",
        "        if neighbors:\n",
        "            # Seleccionar un vecino al azar y abrir el camino hacia él\n",
        "            nx, ny = random.choice(neighbors)\n",
        "            maze[(y + ny) // 2, (x + nx) // 2] = 0  # Abrir el camino entre la celda actual y el vecino\n",
        "            maze[ny, nx] = 0  # Establecer el vecino como camino\n",
        "            stack.append((nx, ny))  # Agregar el vecino a la pila para continuar desde allí\n",
        "        else:\n",
        "            stack.pop()  # Si no hay vecinos, retroceder en la pila\n",
        "    return maze\n",
        "\n",
        "# Función para buscar un camino usando el algoritmo de recorrido en abanico iterativo (BFS)\n",
        "def breadth_first_search(maze, start_pos, end_pos):\n",
        "    queue = deque([start_pos])  # Cola para almacenar las posiciones a explorar\n",
        "    visited = set([start_pos])  # Conjunto para registrar las celdas visitadas\n",
        "    parent = {start_pos: None}  # Diccionario para almacenar el camino (nodo actual -> padre)\n",
        "\n",
        "    # Mientras haya posiciones en la cola\n",
        "    while queue:\n",
        "        current_pos = queue.popleft()\n",
        "        if current_pos == end_pos:\n",
        "            break  # Si se ha alcanzado el destino, finalizar\n",
        "\n",
        "        x, y = current_pos\n",
        "        directions = [(0, 1), (1, 0), (0, -1), (-1, 0)]  # Direcciones para moverse en el laberinto\n",
        "\n",
        "        # Explorar los vecinos de la celda actual\n",
        "        for dx, dy in directions:\n",
        "            neighbor = (x + dx, y + dy)\n",
        "            if (0 <= neighbor[0] < maze.shape[1] and\n",
        "                    0 <= neighbor[1] < maze.shape[0] and\n",
        "                    maze[neighbor[1], neighbor[0]] == 0 and\n",
        "                    neighbor not in visited):\n",
        "                queue.append(neighbor)\n",
        "                visited.add(neighbor)\n",
        "                parent[neighbor] = current_pos  # Registrar el padre de la celda vecina\n",
        "\n",
        "    # Reconstruir el camino desde el destino al inicio\n",
        "    path = []\n",
        "    step = end_pos\n",
        "    while step is not None:\n",
        "        path.append(step)\n",
        "        step = parent[step]\n",
        "    path.reverse()  # Invertir el camino para obtenerlo desde el inicio al destino\n",
        "\n",
        "    return path if path[0] == start_pos else None  # Retornar el camino si se alcanzó el inicio\n",
        "\n",
        "# Función para visualizar el laberinto con el camino encontrado\n",
        "def visualize_maze_with_path(maze, start_pos, end_pos, path):\n",
        "    plt.figure(figsize=(8, 8))\n",
        "    plt.imshow(maze, cmap='binary')  # Muestra el laberinto en escala de grises\n",
        "    plt.axis('off')\n",
        "    plt.xlim(-0.5, maze.shape[1] - 0.5)\n",
        "    plt.ylim(maze.shape[0] - 0.5, -0.5)\n",
        "    # Marcar los puntos de inicio y final\n",
        "    plt.scatter(*start_pos[::-1], color='orange', s=50, label='Inicio')  # Punto de inicio\n",
        "    plt.scatter(*end_pos[::-1], color='green', s=50, label='Fin')        # Punto de destino\n",
        "    # Dibujar el camino\n",
        "    if path:\n",
        "        path_array = np.array(path)\n",
        "        plt.plot(path_array[:, 0], path_array[:, 1], color='red', linewidth=3, label='Camino')\n",
        "    plt.legend()\n",
        "    plt.show()\n",
        "\n",
        "# Definir el tamaño del laberinto (debe ser impar)\n",
        "size = (101, 101)  # Cambiado a 101x101\n",
        "maze = create_maze(size)\n",
        "\n",
        "# Definir las posiciones de inicio y fin (en el borde del laberinto)\n",
        "start_pos = (1, 1)   # Inicio en (1, 1)\n",
        "end_pos = (99, 99)   # Fin en (99, 99)\n",
        "\n",
        "# Ejecutar el recorrido en abanico iterativo para encontrar el camino\n",
        "path = breadth_first_search(maze, start_pos, end_pos)\n",
        "\n",
        "# Visualizar el laberinto con el camino encontrado\n",
        "visualize_maze_with_path(maze, start_pos, end_pos, path)\n"
      ],
      "metadata": {
        "colab": {
          "base_uri": "https://localhost:8080/",
          "height": 653
        },
        "id": "VcR6XhwD42eD",
        "outputId": "ed181b81-4cbb-4d5f-e1c4-0485a548f1f7"
      },
      "execution_count": null,
      "outputs": [
        {
          "output_type": "display_data",
          "data": {
            "text/plain": [
              "<Figure size 800x800 with 1 Axes>"
            ],
            "image/png": "[encoded data removed]"
          },
          "metadata": {}
        }
      ]
    },
    {
      "cell_type": "markdown",
      "source": [
        "Estructuras creadas:\n",
        "- queue (cola): Es una estructura de deque que almacena las posiciones a explorar en el recorrido en abanico. Las posiciones se agregan al final de la cola y se eliminan del frente, asegurando que el recorrido sea en abanico.\n",
        "\n",
        "- visited (conjunto): Un conjunto para registrar las celdas que ya han sido visitadas y evitar ciclos. Esto ayuda a no visitar la misma celda dos veces.\n",
        "\n",
        "- parent (diccionario): Almacena la relación de cada celda con su \"padre\" (la celda desde la que se alcanzó), permitiendo reconstruir el camino desde el destino hasta el inicio al finalizar la búsqueda.\n",
        "\n",
        "Esta implementación de BFS evita el uso de recursión y construye el camino completo mediante estructuras iterativas."
      ],
      "metadata": {
        "id": "ewFjCkuR48ey"
      }
    },
    {
      "cell_type": "markdown",
      "source": [
        "# 1.6 Comparación, dificultades, conclusiones y mejoras"
      ],
      "metadata": {
        "id": "jY4HChc5tHHb"
      }
    },
    {
      "cell_type": "markdown",
      "source": [
        "\n",
        "1. Estrategia de Búsqueda\n",
        "- **DFS Recursivo**: Este algoritmo explora en profundidad, lo que significa que sigue explorando cada camino posible desde el punto de inicio hasta el final antes de retroceder. Esto lo hace apropiado para encontrar caminos en laberintos que no son necesariamente el más corto, ya que se centra en explorar una ruta hasta llegar al final o quedar sin opciones.\n",
        "- **BFS Iterativo**: Explora en abanico, analizando todas las celdas cercanas al punto de inicio antes de expandirse. Esta estrategia es particularmente útil cuando se necesita encontrar el camino más corto en un laberinto (en términos de número de pasos), ya que cada paso abarca todas las celdas accesibles en un nivel antes de pasar al siguiente.\n",
        "\n",
        "2. Estructuras Utilizadas\n",
        "- **DFS Recursivo**: Utiliza una pila implícita a través de la llamada recursiva, junto con una lista `path` y un conjunto `visited`. La pila de llamadas en la recursión puede crecer considerablemente en laberintos grandes, lo cual podría llevar a un desbordamiento de pila.\n",
        "- **BFS Iterativo**: Utiliza una cola explícita (`queue`) para manejar el orden de expansión en abanico. También emplea un conjunto `visited` para evitar volver a visitar celdas y un diccionario `parent` para rastrear el camino. La cola asegura un manejo de la memoria más controlado, lo que evita problemas de desbordamiento de pila.\n",
        "\n",
        "3. Complejidad Espacial\n",
        "- **DFS Recursivo**: La memoria está dominada por la profundidad máxima de la recursión. En laberintos grandes y profundos, esto puede causar problemas de rendimiento y posibles errores de desbordamiento de pila.\n",
        "- **BFS Iterativo**: El consumo de memoria está relacionado con el tamaño de la cola, que puede volverse grande si el laberinto es ancho. Sin embargo, el uso de una cola iterativa y el almacenamiento de padres permite manejar laberintos grandes sin riesgo de desbordamiento de pila.\n",
        "\n",
        "4. Complejidad Temporal\n",
        "- **DFS Recursivo**: La complejidad depende del tamaño del laberinto; en el peor caso, explora todas las celdas. No garantiza encontrar el camino más corto.\n",
        "- **BFS Iterativo**: Al analizar cada nivel de celdas antes de pasar al siguiente, encuentra el camino más corto en términos de número de celdas exploradas, lo que lo hace más eficiente para hallar soluciones óptimas.\n",
        "\n",
        "5. Riesgo de Ciclos o Caminos Innecesarios\n",
        "- **DFS Recursivo**: Sin la estructura adecuada, puede intentar caminos ya explorados, aunque el uso de `visited` ayuda a evitar esto. Si el laberinto tiene caminos complejos, DFS podría generar soluciones innecesariamente largas o incluso sin salida.\n",
        "- **BFS Iterativo**: Debido a su estructura en abanico, evita revisitar celdas y es menos propenso a quedar atrapado en ciclos. Siempre encontrará el camino más corto si existe, aunque la exploración a veces es más lenta.\n",
        "\n",
        "Dificultades al Implementar\n",
        "\n",
        "- **DFS Recursivo**:\n",
        "  - Riesgo de desbordamiento de pila en laberintos grandes.\n",
        "  - Complejidad para gestionar retrocesos y mantener un camino continuo al retroceder.\n",
        "  - No garantiza la solución más corta.\n",
        "\n",
        "- **BFS Iterativo**:\n",
        "  - Requiere una estructura de datos adicional (`queue`) y un diccionario (`parent`) para reconstruir el camino.\n",
        "  - La implementación y mantenimiento de la cola y el rastreo de padres pueden complicar el código si el laberinto es dinámico o cambia durante la búsqueda.\n",
        "  - El crecimiento en abanico puede requerir memoria adicional, especialmente en laberintos grandes y muy abiertos.\n",
        "\n",
        "Conclusiones\n",
        "\n",
        "- **DFS** es adecuado para laberintos pequeños o para situaciones en las que se necesita una solución rápida sin importar si es la más corta. Es un enfoque intuitivo y relativamente sencillo de implementar para encontrar cualquier camino hasta el final.\n",
        "  \n",
        "- **BFS** es preferible cuando se necesita encontrar el camino más corto, en laberintos grandes o en casos donde se debe evitar un desbordamiento de pila. Su estructura iterativa lo hace más robusto para laberintos complejos y de gran tamaño.\n",
        "\n",
        "En general, el **BFS** es más versátil y eficiente para encontrar soluciones óptimas, mientras que **DFS** es útil para exploración rápida o en sistemas con limitaciones de memoria o complejidad del algoritmo.\n"
      ],
      "metadata": {
        "id": "hHKUdk4A5dQG"
      }
    }
  ]
}