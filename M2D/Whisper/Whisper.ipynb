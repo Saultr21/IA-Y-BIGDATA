{
  "nbformat": 4,
  "nbformat_minor": 0,
  "metadata": {
    "colab": {
      "provenance": [],
      "authorship_tag": "ABX9TyOMObhJ6//PbOUr46bF8VlN",
      "include_colab_link": true
    },
    "kernelspec": {
      "name": "python3",
      "display_name": "Python 3"
    },
    "language_info": {
      "name": "python"
    }
  },
  "cells": [
    {
      "cell_type": "markdown",
      "metadata": {
        "id": "view-in-github",
        "colab_type": "text"
      },
      "source": [
        "<a href=\"https://colab.research.google.com/github/Saultr21/IA-Y-BIGDATA/blob/main/M2D/Whisper/Whisper.ipynb\" target=\"_parent\"><img src=\"https://colab.research.google.com/assets/colab-badge.svg\" alt=\"Open In Colab\"/></a>"
      ]
    },
    {
      "cell_type": "markdown",
      "source": [
        "Saúl Tomás Trujillo Rodríguez"
      ],
      "metadata": {
        "id": "Tzf4JKuflq3h"
      }
    },
    {
      "cell_type": "markdown",
      "source": [
        "# Instalación de Librerías y Dependencias Básicas\n",
        "\n",
        "En este bloque se instalan todas las dependencias necesarias para el proyecto:\n",
        "\n",
        "- **Transformers:** Para utilizar modelos de Hugging Face.\n",
        "- **Torch:** Base de PyTorch para operaciones de deep learning.\n",
        "- **FFmpeg:** Para la manipulación y conversión de archivos de audio.\n",
        "- **Datasets:** Librería auxiliar para el manejo de datos.\n",
        "- **yt-dlp:** Para descargar y extraer audio (por ejemplo, de YouTube)."
      ],
      "metadata": {
        "id": "J7jsqpHQcLXy"
      }
    },
    {
      "cell_type": "code",
      "execution_count": null,
      "metadata": {
        "id": "ikruG1kmVPiq"
      },
      "outputs": [],
      "source": [
        "# Instalamos las librerías necesarias\n",
        "!pip install transformers  # Para usar modelos de Hugging Face\n",
        "!pip install torch         # Librería base de PyTorch\n",
        "!apt-get install ffmpeg    # Para manipular y convertir archivos de audio\n",
        "!pip install datasets      # Librería auxiliar para manejo de datos\n",
        "!pip install yt-dlp\n",
        "!apt-get install ffmpeg -y\n",
        "!pip install language_tool_python"
      ]
    },
    {
      "cell_type": "markdown",
      "source": [
        "# Instalación del Modelo Whisper de OpenAI\n",
        "\n",
        "En este bloque se instala la versión más reciente de **Whisper** directamente desde el repositorio oficial de GitHub de OpenAI. Esto garantiza que se cuente con la última versión disponible para la transcripción de audio.\n"
      ],
      "metadata": {
        "id": "Qd1zWg_EcOiA"
      }
    },
    {
      "cell_type": "code",
      "source": [
        "!pip install git+https://github.com/openai/whisper.git  # Instala Whisper de OpenAI"
      ],
      "metadata": {
        "id": "WKMFGv-FW6cY"
      },
      "execution_count": null,
      "outputs": []
    },
    {
      "cell_type": "markdown",
      "source": [
        "# Importación de Librerías\n",
        "\n",
        "En este bloque se importan los módulos necesarios para:\n",
        "\n",
        "- **whisper:** Cargar y utilizar el modelo de transcripción.\n",
        "- **os:** Interactuar con el sistema operativo (gestión de archivos, etc.).\n",
        "- **language_tool_python:** Posible uso en corrección gramatical o análisis del lenguaje.\n",
        "- **difflib:** Para comparar textos.\n",
        "- **files (de google.colab):** Permitir la subida de archivos locales.\n"
      ],
      "metadata": {
        "id": "4831SboncPOB"
      }
    },
    {
      "cell_type": "code",
      "source": [
        "import whisper\n",
        "import os\n",
        "import language_tool_python\n",
        "import difflib\n",
        "import matplotlib.pyplot as plt\n",
        "from google.colab import files"
      ],
      "metadata": {
        "id": "IwKip9FhYfFJ"
      },
      "execution_count": 10,
      "outputs": []
    },
    {
      "cell_type": "markdown",
      "source": [
        "# Selección del Método de Carga del Audio\n",
        "\n",
        "Este bloque interactúa con el usuario para elegir cómo obtener el audio a transcribir. Se ofrecen dos opciones:\n",
        "\n",
        "1. **Subir un archivo local (WAV o MP3):**\n",
        "   - El usuario sube un archivo.\n",
        "   - Si el archivo es WAV, se convierte a MP3 usando FFmpeg.\n",
        "   - Si el archivo es MP3, se renombra a `audio.mp3`.\n",
        "\n",
        "2. **Descargar audio desde YouTube:**\n",
        "   - Se solicita la URL de un video de YouTube.\n",
        "   - Con *yt-dlp* se descarga y extrae el audio en formato MP3.\n",
        "   - Se renombra el archivo descargado a `audio.mp3`.\n",
        "\n",
        "Si el usuario ingresa una opción no válida, se muestra un mensaje de error.\n"
      ],
      "metadata": {
        "id": "AAs7cwG-cPyo"
      }
    },
    {
      "cell_type": "code",
      "source": [
        "# =========================\n",
        "# SELECCIÓN DE MÉTODO DE CARGA\n",
        "# =========================\n",
        "print(\"Seleccione la opción:\")\n",
        "print(\"1: Subir un archivo local (WAV o MP3)\")\n",
        "print(\"2: Descargar audio de YouTube\")\n",
        "option = input(\"Ingrese 1 o 2: \")\n",
        "\n",
        "if option.strip() == '1':\n",
        "    # -----------------------------------\n",
        "    # SUBIDA Y CONVERSIÓN DE ARCHIVO LOCAL\n",
        "    # -----------------------------------\n",
        "    print(\"Por favor, sube tu archivo de audio (WAV o MP3).\")\n",
        "    uploaded = files.upload()\n",
        "    # Se extrae el nombre del primer archivo subido\n",
        "    filename = list(uploaded.keys())[0]\n",
        "\n",
        "    if filename.lower().endswith('.wav'):\n",
        "        print(\"El archivo subido es WAV. Convirtiendo a MP3...\")\n",
        "        !ffmpeg -i \"{filename}\" -vn -ar 44100 -ac 2 -b:a 192k \"audio.mp3\"\n",
        "        print(\"Conversión completa. Archivo guardado como audio.mp3\")\n",
        "    elif filename.lower().endswith('.mp3'):\n",
        "        print(\"El archivo subido es MP3. No se requiere conversión.\")\n",
        "        !mv \"{filename}\" \"audio.mp3\"\n",
        "        print(\"Archivo renombrado a audio.mp3\")\n",
        "    else:\n",
        "        print(\"Formato no reconocido (no es WAV ni MP3). Se mantiene el nombre original.\")\n",
        "        print(f\"Archivo: {filename}\")\n",
        "\n",
        "elif option.strip() == '2':\n",
        "    # -----------------------------------\n",
        "    # DESCARGAR AUDIO DESDE YOUTUBE CON yt-dlp\n",
        "    # -----------------------------------\n",
        "    video_url = input(\"Ingresa la URL del video de YouTube: \")\n",
        "    output_name = \"audio.mp3\"\n",
        "\n",
        "    print(\"Descargando y convirtiendo audio desde YouTube...\")\n",
        "    # Se descarga y extrae el audio en formato MP3\n",
        "    !yt-dlp -x --audio-format mp3 -o \"{output_name}.%(ext)s\" {video_url}\n",
        "\n",
        "    # Aseguramos que el archivo final se llame 'audio.mp3'\n",
        "    !mv \"{output_name}.mp3\" \"audio.mp3\"\n",
        "\n",
        "    print(\"Descarga y conversión completadas. Archivo guardado como audio.mp3\")\n",
        "else:\n",
        "    print(\"Opción no válida. Por favor, reinicie el proceso y seleccione 1 o 2.\")\n"
      ],
      "metadata": {
        "colab": {
          "base_uri": "https://localhost:8080/",
          "height": 0
        },
        "id": "SVP0jI1HWHbp",
        "outputId": "ce94b70a-7c20-4e1a-f08f-f4b94f5a781d"
      },
      "execution_count": 6,
      "outputs": [
        {
          "output_type": "stream",
          "name": "stdout",
          "text": [
            "Seleccione la opción:\n",
            "1: Subir un archivo local (WAV o MP3)\n",
            "2: Descargar audio de YouTube\n",
            "Ingrese 1 o 2: 2\n",
            "Ingresa la URL del video de YouTube: https://www.youtube.com/watch?v=PWmJhh_qTSY\n",
            "Descargando y convirtiendo audio desde YouTube...\n",
            "[youtube] Extracting URL: https://www.youtube.com/watch?v=PWmJhh_qTSY\n",
            "[youtube] PWmJhh_qTSY: Downloading webpage\n",
            "[youtube] PWmJhh_qTSY: Downloading tv client config\n",
            "[youtube] PWmJhh_qTSY: Downloading player c8dbda2a\n",
            "[youtube] PWmJhh_qTSY: Downloading tv player API JSON\n",
            "[youtube] PWmJhh_qTSY: Downloading ios player API JSON\n",
            "[youtube] PWmJhh_qTSY: Downloading m3u8 information\n",
            "[info] PWmJhh_qTSY: Downloading 1 format(s): 251\n",
            "[download] Destination: audio.mp3.webm\n",
            "\u001b[K[download] 100% of    2.94MiB in \u001b[1;37m00:00:00\u001b[0m at \u001b[0;32m63.41MiB/s\u001b[0m\n",
            "[ExtractAudio] Destination: audio.mp3.mp3\n",
            "Deleting original file audio.mp3.webm (pass -k to keep)\n",
            "Descarga y conversión completadas. Archivo guardado como audio.mp3\n"
          ]
        }
      ]
    },
    {
      "cell_type": "markdown",
      "source": [
        "# Carga del Modelo y Transcripción del Audio\n",
        "\n",
        "En este bloque se realiza el procesamiento principal:\n",
        "\n",
        "1. **Carga del Modelo:**  \n",
        "   Se carga la versión \"base\" del modelo Whisper de OpenAI para la transcripción.\n",
        "\n",
        "2. **Transcripción:**  \n",
        "   Se utiliza el método `transcribe` para convertir el archivo `audio.mp3` en texto, mostrando información en tiempo real gracias al modo verbose.\n",
        "\n",
        "3. **Guardar Resultado:**  \n",
        "   La transcripción se guarda en un archivo llamado `transcripcion.txt` para su posterior consulta.\n"
      ],
      "metadata": {
        "id": "PmQPAmt-cQ0g"
      }
    },
    {
      "cell_type": "code",
      "source": [
        "# Carga del modelo\n",
        "model = whisper.load_model(\"base\")\n",
        "\n",
        "# Transcripción con salida en tiempo real (modo verbose)\n",
        "result = model.transcribe(\"audio.mp3\", verbose=True)\n",
        "\n",
        "# Guardamos la transcripción final en un archivo .txt\n",
        "with open(\"transcripcion.txt\", \"w\", encoding=\"utf-8\") as f:\n",
        "    f.write(result[\"text\"])"
      ],
      "metadata": {
        "colab": {
          "base_uri": "https://localhost:8080/",
          "height": 0
        },
        "id": "mjCjHTLUZ05J",
        "outputId": "49cafd32-6498-4112-881a-c1c76b75b977"
      },
      "execution_count": 7,
      "outputs": [
        {
          "output_type": "stream",
          "name": "stderr",
          "text": [
            "100%|████████████████████████████████████████| 139M/139M [00:01<00:00, 106MiB/s]\n",
            "/usr/local/lib/python3.11/dist-packages/whisper/__init__.py:150: FutureWarning: You are using `torch.load` with `weights_only=False` (the current default value), which uses the default pickle module implicitly. It is possible to construct malicious pickle data which will execute arbitrary code during unpickling (See https://github.com/pytorch/pytorch/blob/main/SECURITY.md#untrusted-models for more details). In a future release, the default value for `weights_only` will be flipped to `True`. This limits the functions that could be executed during unpickling. Arbitrary objects will no longer be allowed to be loaded via this mode unless they are explicitly allowlisted by the user via `torch.serialization.add_safe_globals`. We recommend you start setting `weights_only=True` for any use case where you don't have full control of the loaded file. Please open an issue on GitHub for any issues related to this experimental feature.\n",
            "  checkpoint = torch.load(fp, map_location=device)\n",
            "/usr/local/lib/python3.11/dist-packages/whisper/transcribe.py:132: UserWarning: FP16 is not supported on CPU; using FP32 instead\n",
            "  warnings.warn(\"FP16 is not supported on CPU; using FP32 instead\")\n"
          ]
        },
        {
          "output_type": "stream",
          "name": "stdout",
          "text": [
            "Detecting language using up to the first 30 seconds. Use `--language` to specify the language\n",
            "Detected language: Spanish\n",
            "[00:00.000 --> 00:25.000]  Enseñaste que la amor no es una estafa y que cuando es real no se acaba\n",
            "[00:25.000 --> 00:35.000]  Intenta que no me voy a llorar que no dejas mi fragilidad pero las cosas no son siempre como las soñamos\n",
            "[00:35.000 --> 00:42.000]  A veces corremos pero no llegamos nunca dudas que aquí voy a estar\n",
            "[00:42.000 --> 00:54.000]  Abra me que te voy a escuchar y aunque la vida me trataras así voy a ser fuerte solo para ti\n",
            "[00:54.000 --> 01:05.000]  Lo único que quieres tu felicidad y estar contigo, no sonrisa tu y es mi debilidad\n",
            "[01:05.000 --> 01:16.000]  Quédate si le dan este deseador, así que me siento mejor para lo que necesites estoy\n",
            "[01:16.000 --> 01:21.000]  Tienes que estar completado que yo\n",
            "[01:22.000 --> 01:26.000]  Se nos rompió solo un plato, no toda la bajivilla\n",
            "[01:26.000 --> 01:32.000]  Aunque no se pone la otra mejilla prendera perdonar este sabiós\n",
            "[01:32.000 --> 01:39.000]  Mi solo te salga a mordas sus labios si las cosas se dan y no se votan\n",
            "[01:39.000 --> 01:49.000]  Se repara los problemas se afrontan y se encara a querrérse de la vida a pesar de que vuelan las heridas\n",
            "[01:49.000 --> 01:57.000]  Si han trebalo entre el corazón aunque le aguantan los sin razón\n",
            "[01:57.000 --> 02:08.000]  Lo único que quieres tu felicidad y estar contigo, no sonrisa tu y es mi debilidad\n",
            "[02:08.000 --> 02:19.000]  Quédate si le dan este deseador, así que me siento mejor para lo que necesites estoy\n",
            "[02:19.000 --> 02:22.000]  Tienes que completar lo que eso\n",
            "[02:22.000 --> 02:26.000]  Tienes que estar completado que yo\n",
            "[02:26.000 --> 02:32.000]  Se nos rompió solo un plato, así que me siento mejor para lo que necesites estoy\n",
            "[02:32.000 --> 02:37.000]  Tienes que completar lo que eso\n",
            "[02:38.000 --> 02:42.000]  Tienes que completar 1957\n",
            "[02:42.000 --> 02:45.000]  Tienes que completar lo que eso\n",
            "[02:45.000 --> 02:48.000]  Tienes que completar lo que eso\n",
            "[02:48.000 --> 02:53.000]  Tienes que completar lo que es el mejor para lo que necesites estoy\n"
          ]
        }
      ]
    },
    {
      "cell_type": "markdown",
      "source": [
        "# Comparación con una Letra de Referencia\n",
        "\n",
        "En este apartado, se le permite al usuario ingresar una letra (transcripción de referencia) para comparar con la transcripción generada.  \n",
        "Se utiliza la librería difflib para calcular un índice de similitud y mostrar las diferencias entre ambos textos.\n"
      ],
      "metadata": {
        "id": "Wr1AdVGK5mnd"
      }
    },
    {
      "cell_type": "code",
      "source": [
        "# =========================\n",
        "# COMPARACIÓN CON UNA LETRA DE REFERENCIA\n",
        "# =========================\n",
        "ref = input(\"\\nSi deseas comparar la transcripción con una letra de referencia, ingrésala a continuación (o presiona Enter para omitir):\\n\")\n",
        "if ref.strip():\n",
        "    # Calculamos la similitud entre la transcripción y la letra de referencia\n",
        "    similarity = difflib.SequenceMatcher(None, result[\"text\"], ref).ratio()\n",
        "    similarity_percentage = round(similarity * 100, 2)\n",
        "    difference_percentage = round(100 - similarity_percentage, 2)\n",
        "\n",
        "    print(\"\\nComparación con la Letra de Referencia:\")\n",
        "    print(f\"Índice de similitud: {similarity_percentage}%\")\n",
        "\n",
        "    # Opcional: Mostrar diferencias detalladas (como diff)\n",
        "    diff = difflib.unified_diff(\n",
        "        result[\"text\"].splitlines(),\n",
        "        ref.splitlines(),\n",
        "        fromfile='Transcripción generada',\n",
        "        tofile='Letra de referencia',\n",
        "        lineterm=''\n",
        "    )\n",
        "    print(\"\\nDiferencias (vista resumida):\")\n",
        "    for line in diff:\n",
        "        print(line)\n",
        "\n",
        "    # Generamos un gráfico de pastel para visualizar la similitud\n",
        "    labels = ['Similitud', 'Diferencia']\n",
        "    sizes = [similarity_percentage, difference_percentage]\n",
        "    colors = ['#4CAF50', '#F44336']\n",
        "\n",
        "    plt.figure(figsize=(6, 6))\n",
        "    plt.pie(sizes, labels=labels, autopct='%1.1f%%', colors=colors, startangle=90)\n",
        "    plt.title('Comparación entre Transcripción y Letra de Referencia')\n",
        "    plt.axis('equal')\n",
        "    plt.show()\n",
        "else:\n",
        "    print(\"No se proporcionó una letra de referencia para comparar.\")"
      ],
      "metadata": {
        "colab": {
          "base_uri": "https://localhost:8080/",
          "height": 767
        },
        "id": "BwbKfPxR7kP8",
        "outputId": "4e21aafc-3ca1-4385-ee3b-0ce0ac426474"
      },
      "execution_count": 11,
      "outputs": [
        {
          "output_type": "stream",
          "name": "stdout",
          "text": [
            "\n",
            "Si deseas comparar la transcripción con una letra de referencia, ingrésala a continuación (o presiona Enter para omitir):\n",
            "Me enseñaste que el amor no es una estafa, y que cuando es real no se acaba Intenté que no me veas llorar, que no vieras mi fragilidad, pero Las cosas no son siempre como las soñamos A veces corremos, pero no llegamos Nunca dudes que aquí voy a estar  Háblame que te voy a escuchar…  Y aunque la vida me tratara así Voy a ser fuerte solo para ti  Lo único que quiero es tu felicidad  Y estar contigo La sonrisa tuya es mi debilidad Quererte  Sirve de anestesia al dolor Hace que me sienta mejor Para lo que necesites estoy Viniste a completar lo que soy  Se nos rompió solo un plato no toda la vajilla,  Y aunque no sé poner la otra mejilla Aprender a perdonar es de sabios,  Que solo te salga amor de esos labios Si las cosas se dañan no se botan, se reparan,  los problemas se afrontan y se encaran Hay que reírse de la vida A pesar de que duelan las heridas  Si ha de entregar entero el corazón Aunque le hagan daño sin razón  Lo único que quiero es tu felicidad Y estar contigo Una sonrisa tuya es mi debilidad Quererte  Sirve de anestesia al dolor Hace que me sienta mejor Para lo que necesites estoy Viniste a completar lo que soy  Sirve de anestesia al dolor Hace que me sienta mejor Para lo que necesites estoy Viniste a completar lo que soy\n",
            "\n",
            "Comparación con la Letra de Referencia:\n",
            "Índice de similitud: 15.09%\n",
            "\n",
            "Diferencias (vista resumida):\n",
            "--- Transcripción generada\n",
            "+++ Letra de referencia\n",
            "@@ -1 +1 @@\n",
            "- Enseñaste que la amor no es una estafa y que cuando es real no se acaba Intenta que no me voy a llorar que no dejas mi fragilidad pero las cosas no son siempre como las soñamos A veces corremos pero no llegamos nunca dudas que aquí voy a estar Abra me que te voy a escuchar y aunque la vida me trataras así voy a ser fuerte solo para ti Lo único que quieres tu felicidad y estar contigo, no sonrisa tu y es mi debilidad Quédate si le dan este deseador, así que me siento mejor para lo que necesites estoy Tienes que estar completado que yo Se nos rompió solo un plato, no toda la bajivilla Aunque no se pone la otra mejilla prendera perdonar este sabiós Mi solo te salga a mordas sus labios si las cosas se dan y no se votan Se repara los problemas se afrontan y se encara a querrérse de la vida a pesar de que vuelan las heridas Si han trebalo entre el corazón aunque le aguantan los sin razón Lo único que quieres tu felicidad y estar contigo, no sonrisa tu y es mi debilidad Quédate si le dan este deseador, así que me siento mejor para lo que necesites estoy Tienes que completar lo que eso Tienes que estar completado que yo Se nos rompió solo un plato, así que me siento mejor para lo que necesites estoy Tienes que completar lo que eso Tienes que completar 1957 Tienes que completar lo que eso Tienes que completar lo que eso Tienes que completar lo que es el mejor para lo que necesites estoy\n",
            "+Me enseñaste que el amor no es una estafa, y que cuando es real no se acaba Intenté que no me veas llorar, que no vieras mi fragilidad, pero Las cosas no son siempre como las soñamos A veces corremos, pero no llegamos Nunca dudes que aquí voy a estar  Háblame que te voy a escuchar…  Y aunque la vida me tratara así Voy a ser fuerte solo para ti  Lo único que quiero es tu felicidad  Y estar contigo La sonrisa tuya es mi debilidad Quererte  Sirve de anestesia al dolor Hace que me sienta mejor Para lo que necesites estoy Viniste a completar lo que soy  Se nos rompió solo un plato no toda la vajilla,  Y aunque no sé poner la otra mejilla Aprender a perdonar es de sabios,  Que solo te salga amor de esos labios Si las cosas se dañan no se botan, se reparan,  los problemas se afrontan y se encaran Hay que reírse de la vida A pesar de que duelan las heridas  Si ha de entregar entero el corazón Aunque le hagan daño sin razón  Lo único que quiero es tu felicidad Y estar contigo Una sonrisa tuya es mi debilidad Quererte  Sirve de anestesia al dolor Hace que me sienta mejor Para lo que necesites estoy Viniste a completar lo que soy  Sirve de anestesia al dolor Hace que me sienta mejor Para lo que necesites estoy Viniste a completar lo que soy\n"
          ]
        },
        {
          "output_type": "display_data",
          "data": {
            "text/plain": [
              "<Figure size 600x600 with 1 Axes>"
            ],
            "image/png": "[encoded data removed]"
          },
          "metadata": {}
        }
      ]
    },
    {
      "cell_type": "markdown",
      "source": [
        "# Corrección y Comparación de Transcripciones\n",
        "\n",
        "Este código tiene tres partes principales:\n",
        "\n",
        "---\n",
        "\n",
        "## 1. Función para Calcular el Word Error Rate (WER)\n",
        "\n",
        "La función `compute_wer(reference, hypothesis)` mide el error a nivel de palabras entre dos textos (por ejemplo, una transcripción y una letra de referencia).  \n",
        "---\n",
        "\n",
        "## 2. Corrección Automática de la Transcripción\n",
        "\n",
        "En esta sección se utiliza la librería `language_tool_python` para mejorar la transcripción generada por Whisper:\n",
        "- **Inicialización del corrector:**  \n",
        "  Se crea una instancia de `LanguageTool` configurada para el idioma español (`'es'`).\n",
        "- **Aplicación de la corrección:**  \n",
        "  Se corrige la transcripción almacenada en `result[\"text\"]` y se guarda el resultado en `improved_transcription`.\n",
        "- **Salida en consola:**  \n",
        "  Se imprimen la transcripción original y la transcripción mejorada para compararlas visualmente.\n",
        "\n",
        "---\n",
        "\n",
        "## 3. Comparación con la Letra de Referencia\n",
        "\n",
        "Esta parte permite al usuario comparar la transcripción (tanto la original como la mejorada) con una letra de referencia:\n",
        "- **Entrada del usuario:**  \n",
        "  Se solicita al usuario que ingrese la letra de referencia mediante `input()`.  \n",
        "- **Cálculo del WER:**  \n",
        "  - Se calcula el WER entre la letra de referencia y la transcripción original.\n",
        "  - Se calcula el WER entre la letra de referencia y la transcripción mejorada.\n",
        "- **Impresión de resultados:**  \n",
        "  Se muestran ambos valores de WER (en porcentaje) para ver el impacto de la corrección.\n",
        "- **Visualización gráfica:**  \n",
        "  Se genera un gráfico de barras (usando `matplotlib`) que compara visualmente el WER de la transcripción original y la corregida. Cada barra se etiqueta y se muestra el porcentaje correspondiente.\n",
        "\n",
        "---\n"
      ],
      "metadata": {
        "id": "5-LwW-PKAe6d"
      }
    },
    {
      "cell_type": "code",
      "source": [
        "# Función para calcular el Word Error Rate (WER)\n",
        "def compute_wer(reference, hypothesis):\n",
        "    ref_words = reference.split()\n",
        "    hyp_words = hypothesis.split()\n",
        "    d = [[0] * (len(hyp_words) + 1) for _ in range(len(ref_words) + 1)]\n",
        "    for i in range(len(ref_words) + 1):\n",
        "        d[i][0] = i\n",
        "    for j in range(len(hyp_words) + 1):\n",
        "        d[0][j] = j\n",
        "    for i in range(1, len(ref_words) + 1):\n",
        "        for j in range(1, len(hyp_words) + 1):\n",
        "            cost = 0 if ref_words[i - 1] == hyp_words[j - 1] else 1\n",
        "            d[i][j] = min(d[i - 1][j] + 1,      # eliminación\n",
        "                          d[i][j - 1] + 1,      # inserción\n",
        "                          d[i - 1][j - 1] + cost)  # sustitución\n",
        "    return d[-1][-1] / len(ref_words)\n",
        "\n",
        "# CORRECCIÓN AUTOMÁTICA DE LA TRANSCRIPCIÓN\n",
        "# =========================\n",
        "# Inicializamos la herramienta para el idioma español (puedes cambiarlo según el idioma)\n",
        "tool = language_tool_python.LanguageTool('es')\n",
        "# Aplicamos la corrección automática\n",
        "improved_transcription = tool.correct(result[\"text\"])\n",
        "\n",
        "print(\"\\nTranscripción original:\")\n",
        "print(result[\"text\"])\n",
        "print(\"\\nTranscripción mejorada (después de la corrección automática):\")\n",
        "print(improved_transcription)\n",
        "\n",
        "# =========================\n",
        "# COMPARACIÓN CON LA LETRA DE REFERENCIA\n",
        "# =========================\n",
        "# Se solicita al usuario la letra de referencia para comparar\n",
        "ref = input(\"\\nIngresa la letra de referencia para comparar (o presiona Enter para omitir):\\n\")\n",
        "\n",
        "if ref.strip():\n",
        "    wer_original = compute_wer(ref, result[\"text\"])\n",
        "    wer_improved = compute_wer(ref, improved_transcription)\n",
        "\n",
        "    print(\"\\nComparación con la letra de referencia:\")\n",
        "    print(\"WER (Transcripción original vs. referencia):\", round(wer_original * 100, 2), \"%\")\n",
        "    print(\"WER (Transcripción mejorada vs. referencia):\", round(wer_improved * 100, 2), \"%\")\n",
        "\n",
        "    # Visualización gráfica (gráfico de barras)\n",
        "    labels = ['Original', 'Mejorada']\n",
        "    wer_values = [wer_original * 100, wer_improved * 100]\n",
        "\n",
        "    plt.figure(figsize=(6, 4))\n",
        "    plt.bar(labels, wer_values, color=['#F44336', '#4CAF50'])\n",
        "    plt.ylabel('WER (%)')\n",
        "    plt.title('Comparación del WER con la Letra de Referencia')\n",
        "    plt.ylim(0, 100)\n",
        "    for i, v in enumerate(wer_values):\n",
        "        plt.text(i, v + 1, f\"{v:.2f}%\", ha='center')\n",
        "    plt.show()\n",
        "else:\n",
        "    print(\"No se proporcionó una letra de referencia para comparar.\")"
      ],
      "metadata": {
        "colab": {
          "base_uri": "https://localhost:8080/",
          "height": 637
        },
        "id": "jOKQ7_mm911F",
        "outputId": "b01b4e6d-0987-4c89-ea5b-c593207eeda5"
      },
      "execution_count": 18,
      "outputs": [
        {
          "output_type": "stream",
          "name": "stdout",
          "text": [
            "\n",
            "Transcripción original:\n",
            " Enseñaste que la amor no es una estafa y que cuando es real no se acaba Intenta que no me voy a llorar que no dejas mi fragilidad pero las cosas no son siempre como las soñamos A veces corremos pero no llegamos nunca dudas que aquí voy a estar Abra me que te voy a escuchar y aunque la vida me trataras así voy a ser fuerte solo para ti Lo único que quieres tu felicidad y estar contigo, no sonrisa tu y es mi debilidad Quédate si le dan este deseador, así que me siento mejor para lo que necesites estoy Tienes que estar completado que yo Se nos rompió solo un plato, no toda la bajivilla Aunque no se pone la otra mejilla prendera perdonar este sabiós Mi solo te salga a mordas sus labios si las cosas se dan y no se votan Se repara los problemas se afrontan y se encara a querrérse de la vida a pesar de que vuelan las heridas Si han trebalo entre el corazón aunque le aguantan los sin razón Lo único que quieres tu felicidad y estar contigo, no sonrisa tu y es mi debilidad Quédate si le dan este deseador, así que me siento mejor para lo que necesites estoy Tienes que completar lo que eso Tienes que estar completado que yo Se nos rompió solo un plato, así que me siento mejor para lo que necesites estoy Tienes que completar lo que eso Tienes que completar lo que eso Tienes que completar lo que eso Tienes que completar lo que eso\n",
            "\n",
            "Transcripción mejorada (después de la corrección automática):\n",
            " Enseñaste que el amor no es una estafa y que cuando es real no se acaba Intenta que no me voy a llorar que no dejas mi fragilidad, pero las cosas no son siempre como las soñamos A veces corremos, pero no llegamos nunca dudas que aquí voy a estar Abra me fue te voy a escuchar y aunque la vida me trataras así voy a ser fuerte solo para ti Lo único que quieres tu felicidad y estar contigo, no sonrisa tú y es mi debilidad Quédate si le dan este deseador, así que me siento mejor para lo que necesites estoy Tienes que estar completado que yo Se nos rompió solo un plato, no toda la vainilla Aunque no se pone la otra mejilla prendera perdonar este sabios Mi solo te salga a muerdas sus labios si las cosas se dan y no se votan Se repara los problemas se afrontan y se encara a quererse de la vida a pesar de que vuelan las heridas Si han Arévalo entre el corazón aunque le aguantan los sin razón Lo único que quieres tu felicidad y estar contigo, no sonrisa tú y es mi debilidad Quédate si le dan este deseador, así que me siento mejor para lo que necesites estoy Tienes que completar lo que eso Tienes que estar completado que yo Se nos rompió solo un plato, así que me siento mejor para lo que necesites estoy Tienes que completar lo que eso Tienes que completar lo que eso Tienes que completar lo que eso Tienes que completar lo que eso\n",
            "\n",
            "Ingresa la letra de referencia para comparar (o presiona Enter para omitir):\n",
            "Me enseñaste que el amor no es una estafa, y que cuando es real no se acaba Intenté que no me veas llorar, que no vieras mi fragilidad, pero Las cosas no son siempre como las soñamos A veces corremos, pero no llegamos Nunca dudes que aquí voy a estar  Háblame que te voy a escuchar…  Y aunque la vida me tratara así Voy a ser fuerte solo para ti  Lo único que quiero es tu felicidad  Y estar contigo La sonrisa tuya es mi debilidad Quererte  Sirve de anestesia al dolor Hace que me sienta mejor Para lo que necesites estoy Viniste a completar lo que soy  Se nos rompió solo un plato no toda la vajilla,  Y aunque no sé poner la otra mejilla Aprender a perdonar es de sabios,  Que solo te salga amor de esos labios Si las cosas se dañan no se botan, se reparan,  los problemas se afrontan y se encaran Hay que reírse de la vida A pesar de que duelan las heridas  Si ha de entregar entero el corazón Aunque le hagan daño sin razón  Lo único que quiero es tu felicidad Y estar contigo Una sonrisa tuya es mi debilidad Quererte  Sirve de anestesia al dolor Hace que me sienta mejor Para lo que necesites estoy Viniste a completar lo que soy  Sirve de anestesia al dolor Hace que me sienta mejor Para lo que necesites estoy Viniste a completar lo que soy\n",
            "\n",
            "Comparación con la letra de referencia:\n",
            "WER (Transcripción original vs. referencia): 53.72 %\n",
            "WER (Transcripción mejorada vs. referencia): 52.89 %\n"
          ]
        },
        {
          "output_type": "display_data",
          "data": {
            "text/plain": [
              "<Figure size 600x400 with 1 Axes>"
            ],
            "image/png": "[encoded data removed]"
          },
          "metadata": {}
        }
      ]
    },
    {
      "cell_type": "markdown",
      "source": [
        "# Conclusión\n",
        "\n",
        "Al aplicarle el `language_tool_python.LanguageTool` se consigue mejorar ligeramente la letra, sobretodo en errores ortográficos, pero lo que no va a mejorar es palabras faltantes o mal interpretadas."
      ],
      "metadata": {
        "id": "TIPhdKz-At3A"
      }
    }
  ]
}