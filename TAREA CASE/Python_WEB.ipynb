{
  "cells": [
    {
      "cell_type": "markdown",
      "metadata": {
        "id": "view-in-github",
        "colab_type": "text"
      },
      "source": [
        "<a href=\"https://colab.research.google.com/github/Saultr21/IA-Y-BIGDATA/blob/main/TAREA%20CASE/Python_WEB.ipynb\" target=\"_parent\"><img src=\"https://colab.research.google.com/assets/colab-badge.svg\" alt=\"Open In Colab\"/></a>"
      ]
    },
    {
      "cell_type": "code",
      "execution_count": 1,
      "metadata": {
        "colab": {
          "base_uri": "https://localhost:8080/"
        },
        "id": "Pw-bN93VQli0",
        "outputId": "5391d235-ae9f-424c-dbf7-ad36f2e330e4"
      },
      "outputs": [
        {
          "output_type": "stream",
          "name": "stdout",
          "text": [
            "Collecting flask-ngrok\n",
            "  Downloading flask_ngrok-0.0.25-py3-none-any.whl.metadata (1.8 kB)\n",
            "Requirement already satisfied: Flask>=0.8 in /usr/local/lib/python3.10/dist-packages (from flask-ngrok) (3.1.0)\n",
            "Requirement already satisfied: requests in /usr/local/lib/python3.10/dist-packages (from flask-ngrok) (2.32.3)\n",
            "Requirement already satisfied: Werkzeug>=3.1 in /usr/local/lib/python3.10/dist-packages (from Flask>=0.8->flask-ngrok) (3.1.3)\n",
            "Requirement already satisfied: Jinja2>=3.1.2 in /usr/local/lib/python3.10/dist-packages (from Flask>=0.8->flask-ngrok) (3.1.4)\n",
            "Requirement already satisfied: itsdangerous>=2.2 in /usr/local/lib/python3.10/dist-packages (from Flask>=0.8->flask-ngrok) (2.2.0)\n",
            "Requirement already satisfied: click>=8.1.3 in /usr/local/lib/python3.10/dist-packages (from Flask>=0.8->flask-ngrok) (8.1.7)\n",
            "Requirement already satisfied: blinker>=1.9 in /usr/local/lib/python3.10/dist-packages (from Flask>=0.8->flask-ngrok) (1.9.0)\n",
            "Requirement already satisfied: charset-normalizer<4,>=2 in /usr/local/lib/python3.10/dist-packages (from requests->flask-ngrok) (3.4.0)\n",
            "Requirement already satisfied: idna<4,>=2.5 in /usr/local/lib/python3.10/dist-packages (from requests->flask-ngrok) (3.10)\n",
            "Requirement already satisfied: urllib3<3,>=1.21.1 in /usr/local/lib/python3.10/dist-packages (from requests->flask-ngrok) (2.2.3)\n",
            "Requirement already satisfied: certifi>=2017.4.17 in /usr/local/lib/python3.10/dist-packages (from requests->flask-ngrok) (2024.12.14)\n",
            "Requirement already satisfied: MarkupSafe>=2.0 in /usr/local/lib/python3.10/dist-packages (from Jinja2>=3.1.2->Flask>=0.8->flask-ngrok) (3.0.2)\n",
            "Downloading flask_ngrok-0.0.25-py3-none-any.whl (3.1 kB)\n",
            "Installing collected packages: flask-ngrok\n",
            "Successfully installed flask-ngrok-0.0.25\n"
          ]
        }
      ],
      "source": [
        "!pip install flask-ngrok"
      ]
    },
    {
      "cell_type": "code",
      "execution_count": 2,
      "metadata": {
        "colab": {
          "base_uri": "https://localhost:8080/"
        },
        "id": "GGIaTu4RX8HM",
        "outputId": "d5c4c146-f3c5-4dc8-90cb-25441b769080"
      },
      "outputs": [
        {
          "output_type": "stream",
          "name": "stdout",
          "text": [
            "Requirement already satisfied: flask in /usr/local/lib/python3.10/dist-packages (3.1.0)\n",
            "Requirement already satisfied: Werkzeug>=3.1 in /usr/local/lib/python3.10/dist-packages (from flask) (3.1.3)\n",
            "Requirement already satisfied: Jinja2>=3.1.2 in /usr/local/lib/python3.10/dist-packages (from flask) (3.1.4)\n",
            "Requirement already satisfied: itsdangerous>=2.2 in /usr/local/lib/python3.10/dist-packages (from flask) (2.2.0)\n",
            "Requirement already satisfied: click>=8.1.3 in /usr/local/lib/python3.10/dist-packages (from flask) (8.1.7)\n",
            "Requirement already satisfied: blinker>=1.9 in /usr/local/lib/python3.10/dist-packages (from flask) (1.9.0)\n",
            "Requirement already satisfied: MarkupSafe>=2.0 in /usr/local/lib/python3.10/dist-packages (from Jinja2>=3.1.2->flask) (3.0.2)\n"
          ]
        }
      ],
      "source": [
        "!pip install flask"
      ]
    },
    {
      "cell_type": "code",
      "execution_count": 3,
      "metadata": {
        "colab": {
          "base_uri": "https://localhost:8080/"
        },
        "id": "T3yAST1DX-MF",
        "outputId": "3c89ad88-8713-4110-93e9-d8dd97face64"
      },
      "outputs": [
        {
          "output_type": "stream",
          "name": "stdout",
          "text": [
            "Collecting pyngrok\n",
            "  Downloading pyngrok-7.2.3-py3-none-any.whl.metadata (8.7 kB)\n",
            "Requirement already satisfied: PyYAML>=5.1 in /usr/local/lib/python3.10/dist-packages (from pyngrok) (6.0.2)\n",
            "Downloading pyngrok-7.2.3-py3-none-any.whl (23 kB)\n",
            "Installing collected packages: pyngrok\n",
            "Successfully installed pyngrok-7.2.3\n"
          ]
        }
      ],
      "source": [
        "!pip install pyngrok"
      ]
    },
    {
      "cell_type": "code",
      "execution_count": 4,
      "metadata": {
        "colab": {
          "base_uri": "https://localhost:8080/"
        },
        "id": "dMY5PF_oYjEN",
        "outputId": "1520df70-dfe3-4e5c-cb96-9cc5142f050b"
      },
      "outputs": [
        {
          "output_type": "stream",
          "name": "stdout",
          "text": [
            "Authtoken saved to configuration file: /root/.config/ngrok/ngrok.yml\n"
          ]
        }
      ],
      "source": [
        "!ngrok config add-authtoken 2rdMQ1YNewisuTrSgbgd7UUfoyj_2g8NwcJ5YZcqVpH6BXz1T"
      ]
    },
    {
      "cell_type": "code",
      "execution_count": 7,
      "metadata": {
        "id": "Za9PoPF_Y-_U"
      },
      "outputs": [],
      "source": [
        "import os\n",
        "\n",
        "os.makedirs('templates', exist_ok=True)\n",
        "os.makedirs('static', exist_ok=True)\n",
        "os.makedirs('generated_files', exist_ok=True)"
      ]
    },
    {
      "cell_type": "code",
      "execution_count": 6,
      "metadata": {
        "colab": {
          "base_uri": "https://localhost:8080/"
        },
        "id": "UyCdaastXuqU",
        "outputId": "8bb7bcb0-a14e-47bb-badd-ee4b871eb836"
      },
      "outputs": [
        {
          "output_type": "stream",
          "name": "stdout",
          "text": [
            "Servidor Flask en: NgrokTunnel: \"https://c0ef-34-16-214-23.ngrok-free.app\" -> \"http://localhost:5000\"\n",
            " * Serving Flask app '__main__'\n",
            " * Debug mode: off\n"
          ]
        },
        {
          "output_type": "stream",
          "name": "stderr",
          "text": [
            "INFO:werkzeug:\u001b[31m\u001b[1mWARNING: This is a development server. Do not use it in a production deployment. Use a production WSGI server instead.\u001b[0m\n",
            " * Running on http://127.0.0.1:5000\n",
            "INFO:werkzeug:\u001b[33mPress CTRL+C to quit\u001b[0m\n"
          ]
        }
      ],
      "source": [
        "from flask import Flask, render_template, request, jsonify, make_response\n",
        "from pyngrok import ngrok\n",
        "import xml.etree.ElementTree as ET\n",
        "\n",
        "app = Flask(__name__)\n",
        "\n",
        "# Almacén para las clases y relaciones\n",
        "classes = []\n",
        "relations = []\n",
        "\n",
        "@app.route('/')\n",
        "def index():\n",
        "    return render_template('UML.html')\n",
        "\n",
        "@app.route('/add_class', methods=['POST'])\n",
        "def add_class():\n",
        "    data = request.json\n",
        "    class_name = data['name']\n",
        "    new_class = {\n",
        "        'name': class_name,\n",
        "        'attributes': [],\n",
        "        'methods': []\n",
        "    }\n",
        "    classes.append(new_class)\n",
        "    return jsonify({'status': 'success'})\n",
        "\n",
        "@app.route('/add_attribute', methods=['POST'])\n",
        "def add_attribute():\n",
        "    data = request.json\n",
        "    class_name = data['class_name']\n",
        "    attribute = f\"{data['visibility']} {data['name']}:{data['type']}\"\n",
        "    for cls in classes:\n",
        "        if cls['name'] == class_name:\n",
        "            cls['attributes'].append(attribute)\n",
        "            break\n",
        "    return jsonify({'status': 'success'})\n",
        "\n",
        "@app.route('/add_method', methods=['POST'])\n",
        "def add_method():\n",
        "    data = request.json\n",
        "    class_name = data['class_name']\n",
        "    method = f\"{data['visibility']} {data['name']}():{data['type']}\"\n",
        "    for cls in classes:\n",
        "        if cls['name'] == class_name:\n",
        "            cls['methods'].append(method)\n",
        "            break\n",
        "    return jsonify({'status': 'success'})\n",
        "\n",
        "@app.route('/add_relation', methods=['POST'])\n",
        "def add_relation():\n",
        "    data = request.json\n",
        "    relation = {\n",
        "        'from_class': data['from_class'],\n",
        "        'to_class': data['to_class'],\n",
        "        'type': data['type'],\n",
        "        'from_multiplicity': data['from_multiplicity'],\n",
        "        'to_multiplicity': data['to_multiplicity']\n",
        "    }\n",
        "    relations.append(relation)\n",
        "    return jsonify({'status': 'success'})\n",
        "\n",
        "@app.route('/download_xmi', methods=['GET'])\n",
        "def download_xmi():\n",
        "    xmi = ET.Element('XMI', {\n",
        "        'xmi.version': '2.1',\n",
        "        'xmlns:xmi': 'http://schema.omg.org/spec/XMI/2.1',\n",
        "        'xmlns:uml': 'http://www.omg.org/spec/UML/20090901'\n",
        "    })\n",
        "\n",
        "    model = ET.SubElement(xmi, 'uml:Model', {\n",
        "        'xmi:type': 'uml:Model',\n",
        "        'name': 'UMLModel'\n",
        "    })\n",
        "\n",
        "    for cls in classes:\n",
        "        class_element = ET.SubElement(model, 'packagedElement', {\n",
        "            'xmi:type': 'uml:Class',\n",
        "            'name': cls['name']\n",
        "        })\n",
        "        for attr in cls['attributes']:\n",
        "            visibility, rest = attr.split(' ', 1)\n",
        "            name, type_ = rest.split(':')\n",
        "            ET.SubElement(class_element, 'ownedAttribute', {\n",
        "                'visibility': visibility,\n",
        "                'name': name.strip(),\n",
        "                'type': type_.strip()\n",
        "            })\n",
        "        for meth in cls['methods']:\n",
        "            visibility, rest = meth.split(' ', 1)\n",
        "            name, type_ = rest.split(':')\n",
        "            ET.SubElement(class_element, 'ownedOperation', {\n",
        "                'visibility': visibility,\n",
        "                'name': name.replace('()', '').strip(),\n",
        "                'type': type_.strip()\n",
        "            })\n",
        "\n",
        "    for rel in relations:\n",
        "        relation_type = {\n",
        "            'herencia': 'Generalization',\n",
        "            'composición': 'Composition',\n",
        "            'agregación': 'Aggregation',\n",
        "            'dependencia': 'Dependency',\n",
        "            'asociaciónDireccional': 'DirectedAssociation'\n",
        "        }.get(rel['type'], 'Association')\n",
        "\n",
        "        relation_element = ET.SubElement(model, 'packagedElement', {\n",
        "            'xmi:type': f'uml:{relation_type}',\n",
        "            'memberEnd': f\"{rel['from_class']} {rel['to_class']}\"\n",
        "        })\n",
        "\n",
        "        if relation_type not in ['Generalization', 'Dependency']:\n",
        "            ET.SubElement(relation_element, 'ownedEnd', {\n",
        "                'type': rel['from_class'],\n",
        "                'multiplicity': rel['from_multiplicity']\n",
        "            })\n",
        "            ET.SubElement(relation_element, 'ownedEnd', {\n",
        "                'type': rel['to_class'],\n",
        "                'multiplicity': rel['to_multiplicity']\n",
        "            })\n",
        "\n",
        "    xmi_str = ET.tostring(xmi, encoding='utf-8', xml_declaration=True).decode('utf-8')\n",
        "\n",
        "    response = make_response(xmi_str)\n",
        "    response.headers['Content-Disposition'] = 'attachment; filename=diagram.xmi'\n",
        "    response.headers['Content-Type'] = 'application/xml'\n",
        "    return response\n",
        "\n",
        "if __name__ == '__main__':\n",
        "  # Inicia el túnel\n",
        "  public_url = ngrok.connect(5000)\n",
        "  print(f\"Servidor Flask en: {public_url}\")\n",
        "\n",
        "  app.run(port=5000)\n",
        "\n"
      ]
    }
  ],
  "metadata": {
    "colab": {
      "provenance": [],
      "authorship_tag": "ABX9TyPMa8/oMBEwvPwWVnOaeEIe",
      "include_colab_link": true
    },
    "kernelspec": {
      "display_name": "Python 3",
      "name": "python3"
    },
    "language_info": {
      "name": "python"
    }
  },
  "nbformat": 4,
  "nbformat_minor": 0
}