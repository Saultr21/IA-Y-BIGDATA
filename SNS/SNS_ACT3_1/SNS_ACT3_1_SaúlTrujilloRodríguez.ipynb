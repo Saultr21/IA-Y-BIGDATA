{
  "nbformat": 4,
  "nbformat_minor": 0,
  "metadata": {
    "colab": {
      "provenance": [],
      "include_colab_link": true
    },
    "kernelspec": {
      "name": "python3",
      "display_name": "Python 3"
    },
    "language_info": {
      "name": "python"
    }
  },
  "cells": [
    {
      "cell_type": "markdown",
      "metadata": {
        "id": "view-in-github",
        "colab_type": "text"
      },
      "source": [
        "<a href=\"https://colab.research.google.com/github/Saultr21/IA-Y-BIGDATA/blob/main/SNS/SNS_ACT3_1/SNS_ACT3_1_Sa%C3%BAlTrujilloRodr%C3%ADguez.ipynb\" target=\"_parent\"><img src=\"https://colab.research.google.com/assets/colab-badge.svg\" alt=\"Open In Colab\"/></a>"
      ]
    },
    {
      "cell_type": "markdown",
      "source": [
        "Saúl Tomás Trujillo Rodríguez\n",
        "\n",
        "24_25\n",
        "\n",
        "Actividad 3.1 - Métricas de error para los problemas de regresión\n",
        "\n",
        "A partir de los ejemplos indicados realizar los ejercicios propuestos"
      ],
      "metadata": {
        "id": "irnc2RYVuYVU"
      }
    },
    {
      "cell_type": "code",
      "execution_count": null,
      "metadata": {
        "colab": {
          "base_uri": "https://localhost:8080/"
        },
        "id": "jVLFdfzxdsfG",
        "outputId": "0ee5ab0b-8c5f-4f83-c94a-d46607fc8a4e"
      },
      "outputs": [
        {
          "output_type": "execute_result",
          "data": {
            "text/plain": [
              "0.0"
            ]
          },
          "metadata": {},
          "execution_count": 2
        }
      ],
      "source": [
        "#Error absoluto medio - mae\n",
        "from sklearn.metrics import mean_absolute_error\n",
        "# Ejemplo 1\n",
        "y_true = [2.5, 0, 2, 8]\n",
        "y_pred = [2.5, 0, 2, 8]\n",
        "mean_absolute_error(y_true, y_pred)\n"
      ]
    },
    {
      "cell_type": "code",
      "source": [
        "# Ejer 1: Crear dos vectores/arrays de valores ciertos y valores previstos, y calcular el mae.\n",
        "# ¿Qué valores deberían de tener el array pred para que el error fuese 0? ¿y para que error fuese de 0.25?\n",
        "\n",
        "\n",
        "# Crear el array de valores ciertos (y_true)\n",
        "y_true = [2.5, 0, 2, 8]\n",
        "y_pred = [2.5, 0, 2, 8]\n",
        "# Para que el MAE sea 0\n",
        "# Los valores previstos deben ser iguales a los valores ciertos\n",
        "\n",
        "mae_zero_error = mean_absolute_error(y_true, y_pred)\n",
        "\n",
        "# Para que el MAE sea 0.25\n",
        "# Diseñamos los valores de y_pred para que la diferencia promedio absoluta sea 0.25\n",
        "y_pred_error_025 = [2.25, 0.25, 2.25, 7.75]\n",
        "mae_error_025 = mean_absolute_error(y_true, y_pred_error_025)\n",
        "\n",
        "# Mostrar resultados\n",
        "print(\"Valores ciertos (y_true):\", y_true)\n",
        "print(\"\\nPara MAE = 0:\")\n",
        "print(\"Valores previstos (y_pred):\", y_pred)\n",
        "print(\"MAE calculado:\", mae_zero_error)\n",
        "\n",
        "print(\"\\nPara MAE = 0.25:\")\n",
        "print(\"Valores previstos (y_pred):\", y_pred_error_025)\n",
        "print(\"MAE calculado:\", mae_error_025)\n"
      ],
      "metadata": {
        "id": "67XK1bXegMai",
        "outputId": "3ab9d273-eeac-4636-b2f1-024a6c6f4075",
        "colab": {
          "base_uri": "https://localhost:8080/"
        }
      },
      "execution_count": null,
      "outputs": [
        {
          "output_type": "stream",
          "name": "stdout",
          "text": [
            "Valores ciertos (y_true): [2.5, 0, 2, 8]\n",
            "\n",
            "Para MAE = 0:\n",
            "Valores previstos (y_pred): [2.5, 0, 2, 8]\n",
            "MAE calculado: 0.0\n",
            "\n",
            "Para MAE = 0.25:\n",
            "Valores previstos (y_pred): [2.25, 0.25, 2.25, 7.75]\n",
            "MAE calculado: 0.25\n"
          ]
        }
      ]
    },
    {
      "cell_type": "code",
      "source": [
        "# Ejemplo 2\n",
        "y_true = [[0.5, 1], [-1, 1], [7, -6]]\n",
        "y_pred = [[0, 2], [-1, 2], [8, -5]]\n",
        "mean_absolute_error(y_true, y_pred)"
      ],
      "metadata": {
        "id": "3LhzsD30f60T",
        "colab": {
          "base_uri": "https://localhost:8080/"
        },
        "outputId": "b069e1d5-c0e2-4436-cc4d-3af381e1e9bd"
      },
      "execution_count": null,
      "outputs": [
        {
          "output_type": "execute_result",
          "data": {
            "text/plain": [
              "0.75"
            ]
          },
          "metadata": {},
          "execution_count": 6
        }
      ]
    },
    {
      "cell_type": "code",
      "source": [
        "# Ejer 2: Crear dos matrices/arrays de valores ciertos y valores previstos, y calcular el mae.\n",
        "# ¿Qué valores deberían de tener el array pred para que el error fuese 0? ¿y para que error fuese de 0.33?\n",
        "from sklearn.metrics import mean_absolute_error\n",
        "import numpy as np\n",
        "\n",
        "# para que error fuese de 0\n",
        "y_true_1 = [1, 2, 3]\n",
        "y_pred_1 = [1, 2, 3]\n",
        "\n",
        "mae_1 = mean_absolute_error(y_true_1, y_pred_1)\n",
        "print(\"\\nPara MAE = 0:\")\n",
        "print(f\"MAE de 0: {mae_1}\")\n",
        "\n",
        "# para que error fuese de 0.33\n",
        "y_true_3 = [[1, 2], [3, 4], [5, 6]]\n",
        "y_pred_3 = [[1.8, 2], [3.6, 4], [5, 6.6]]\n",
        "\n",
        "mae_3 = mean_absolute_error(y_true_3, y_pred_3, multioutput=[0.5, 0.5])\n",
        "print(\"\\nPara MAE = 0.33:\")\n",
        "print(f\"MAE de 0.33: {mae_3}\")\n",
        "\n"
      ],
      "metadata": {
        "id": "LnPx6A4Astfq",
        "outputId": "130a357b-1ff3-4f67-c8b1-ca687a4a7fab",
        "colab": {
          "base_uri": "https://localhost:8080/"
        }
      },
      "execution_count": null,
      "outputs": [
        {
          "output_type": "stream",
          "name": "stdout",
          "text": [
            "\n",
            "Para MAE = 0:\n",
            "MAE de 0: 0.0\n",
            "\n",
            "Para MAE = 0.33:\n",
            "MAE de 0.33: 0.3333333333333333\n"
          ]
        }
      ]
    },
    {
      "cell_type": "code",
      "source": [
        "# Error cuadrático medio - mse\n",
        "from sklearn.metrics import mean_squared_error\n",
        "y_true = [3, -0.5, 2, 7]\n",
        "y_pred = [2.5, 0.0, 2, 8]\n",
        "mean_squared_error(y_true, y_pred)\n"
      ],
      "metadata": {
        "colab": {
          "base_uri": "https://localhost:8080/"
        },
        "id": "59efr-GWgKP6",
        "outputId": "ae6b9c8b-b5ab-4ad1-ee9f-f3b2d2fa70d1"
      },
      "execution_count": null,
      "outputs": [
        {
          "output_type": "execute_result",
          "data": {
            "text/plain": [
              "0.375"
            ]
          },
          "metadata": {},
          "execution_count": 3
        }
      ]
    },
    {
      "cell_type": "code",
      "source": [
        "# Ejer 3: Crear dos vectores/arrays de valores ciertos y valores previstos, y calcular el mse.\n",
        "import numpy as np\n",
        "from sklearn.metrics import mean_squared_error\n",
        "\n",
        "y_true = np.array([1, 2, 3, 4, 5])  # Valores reales\n",
        "y_pred = np.array([1.1, 1.9, 3.1, 3.9, 5.1]) # Valores predichos\n",
        "\n",
        "mse = mean_squared_error(y_true, y_pred)\n",
        "print(f\"MSE: {mse}\") # Output: MSE: 0.01\n",
        "\n",
        "\n",
        "# ¿Qué valores deberían de tener el array pred para que el error fuese 0?\n",
        "# Tendrian que ser arrays iguales\n",
        "y_true = np.array([1, 2, 3, 4, 5])\n",
        "y_pred = np.array([1, 2, 3, 4, 5])  # y_pred es igual a y_true\n",
        "\n",
        "mse = mean_squared_error(y_true, y_pred)\n",
        "print(f\"MSE: {mse}\")  # Output: MSE: 0.0\n",
        "# ¿y para que error fuese de 0.25?\n",
        "y_true = np.array([1, 2])\n",
        "y_pred = np.array([1.5, 1.5]) # Ejemplo para obtener un MSE de 0.25\n",
        "\n",
        "mse = mean_squared_error(y_true, y_pred)\n",
        "print(f\"MSE: {mse}\") # Output: MSE: 0.25"
      ],
      "metadata": {
        "id": "FLZt6j17u7sE",
        "outputId": "e7eb0503-d493-4e71-816c-9745f64b2e5b",
        "colab": {
          "base_uri": "https://localhost:8080/"
        }
      },
      "execution_count": null,
      "outputs": [
        {
          "output_type": "stream",
          "name": "stdout",
          "text": [
            "MSE: 0.01\n",
            "MSE: 0.0\n",
            "MSE: 0.25\n"
          ]
        }
      ]
    },
    {
      "cell_type": "code",
      "source": [
        "# Ejer 4: Crear dos matrices/arrays de valores ciertos y valores previstos, y calcular el mae.\n",
        "# ¿Qué valores deberían de tener el array pred para que el error fuese 0? ¿y para que error fuese de 0.33?\n",
        "from sklearn.metrics import mean_absolute_error\n",
        "import numpy as np\n",
        "\n",
        "# para que error fuese de 0\n",
        "y_true_1 = [1, 2, 3]\n",
        "y_pred_1 = [1, 2, 3]\n",
        "\n",
        "mae_1 = mean_absolute_error(y_true_1, y_pred_1)\n",
        "print(\"\\nPara MAE = 0:\")\n",
        "print(f\"MAE de 0: {mae_1}\")\n",
        "\n",
        "# para que error fuese de 0.33\n",
        "y_true_3 = [[1, 2], [3, 4], [5, 6]]\n",
        "y_pred_3 = [[1.8, 2], [3.6, 4], [5, 6.6]]\n",
        "\n",
        "mae_3 = mean_absolute_error(y_true_3, y_pred_3, multioutput=[0.5, 0.5])\n",
        "print(\"\\nPara MAE = 0.33:\")\n",
        "print(f\"MAE de 0.33: {mae_3}\")\n"
      ],
      "metadata": {
        "id": "M9nZd4nLvIRB",
        "outputId": "7ae02b60-95e8-4c3a-e763-51163c6dc70b",
        "colab": {
          "base_uri": "https://localhost:8080/"
        }
      },
      "execution_count": null,
      "outputs": [
        {
          "output_type": "stream",
          "name": "stdout",
          "text": [
            "\n",
            "Para MAE = 0:\n",
            "MAE de 0: 0.0\n",
            "\n",
            "Para MAE = 0.33:\n",
            "MAE de 0.33: 0.3333333333333333\n"
          ]
        }
      ]
    },
    {
      "cell_type": "code",
      "source": [
        "# Error de porcentaje absoluto medio - mape\n",
        "from sklearn.metrics import mean_absolute_percentage_error\n",
        "y_true = [3, -0.5, 2, 7]\n",
        "y_pred = [2.5, 0.0, 2, 8]\n",
        "mean_absolute_percentage_error(y_true, y_pred)"
      ],
      "metadata": {
        "colab": {
          "base_uri": "https://localhost:8080/"
        },
        "id": "0j3DDJPnBTmF",
        "outputId": "c03785a5-c921-400f-bce7-01a0effe5116"
      },
      "execution_count": null,
      "outputs": [
        {
          "output_type": "execute_result",
          "data": {
            "text/plain": [
              "0.3273809523809524"
            ]
          },
          "metadata": {},
          "execution_count": 37
        }
      ]
    },
    {
      "cell_type": "code",
      "source": [
        "# Ejer 5: Crear dos vectores/arrays de valores ciertos y valores previstos, y calcular el mape.\n",
        "# ¿Qué valores deberían de tener el array pred para que el error fuese 0?\n",
        "# tendrian que ser iguales\n",
        "y_true = [3, -0.5, 2, 7]\n",
        "y_pred = [3, -0.5, 2, 7]\n",
        "mean_absolute_percentage_error(y_true, y_pred)"
      ],
      "metadata": {
        "id": "0vsYXdRqB0TE",
        "outputId": "8e94c4aa-437d-449e-d160-69fde438712b",
        "colab": {
          "base_uri": "https://localhost:8080/"
        }
      },
      "execution_count": null,
      "outputs": [
        {
          "output_type": "execute_result",
          "data": {
            "text/plain": [
              "0.0"
            ]
          },
          "metadata": {},
          "execution_count": 39
        }
      ]
    },
    {
      "cell_type": "code",
      "source": [
        "# Ejer 6: Crear dos matrices/arrays de valores ciertos y valores previstos, y calcular el MAPE.\n",
        "# ¿Qué valores deberían de tener el array pred para que el error fuese 0?\n",
        "y_true = [3, -0.5, 2, 7]\n",
        "y_pred = [3, -0.5, 2, 7]\n",
        "mean_absolute_percentage_error(y_true, y_pred)"
      ],
      "metadata": {
        "id": "085pmFVO-cA3",
        "outputId": "768d90be-16f6-4828-e977-808a33edeaa9",
        "colab": {
          "base_uri": "https://localhost:8080/"
        }
      },
      "execution_count": null,
      "outputs": [
        {
          "output_type": "execute_result",
          "data": {
            "text/plain": [
              "0.0"
            ]
          },
          "metadata": {},
          "execution_count": 40
        }
      ]
    }
  ]
}